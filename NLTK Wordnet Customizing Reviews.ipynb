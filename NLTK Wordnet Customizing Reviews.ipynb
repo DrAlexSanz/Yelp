{
 "cells": [
  {
   "cell_type": "code",
   "execution_count": 57,
   "metadata": {},
   "outputs": [
    {
     "name": "stdout",
     "output_type": "stream",
     "text": [
      "0.125\n"
     ]
    }
   ],
   "source": [
    "import nltk\n",
    "from nltk.corpus import wordnet as wn\n",
    "food = wn.synsets('food')\n",
    "foods=wn.synset('food.n.01')\n",
    "pizza=wn.synset('pizza.n.01')\n",
    "\n",
    "\n",
    "ribs=wn.synset('test.n.01')\n",
    "\n",
    "print(foods.wup_similarity(ribs))"
   ]
  },
  {
   "cell_type": "code",
   "execution_count": 197,
   "metadata": {},
   "outputs": [
    {
     "name": "stdout",
     "output_type": "stream",
     "text": [
      "['place', 'sushi', 'day', 'week', 'time', 'rainbow', 'roll']\n"
     ]
    }
   ],
   "source": [
    "review = 'This place was great!  I would eat the sushi here any day of the week.  Next time maybe get the rainbow roll too!'\n",
    "# function to test if something is a noun\n",
    "is_noun = lambda pos: pos[:2] == 'NN'\n",
    "# do the nlp stuff\n",
    "tokenized = nltk.word_tokenize(review)\n",
    "nouns = [word for (word, pos) in nltk.pos_tag(tokenized) if is_noun(pos)] \n",
    "\n",
    "print(nouns)"
   ]
  },
  {
   "cell_type": "code",
   "execution_count": 213,
   "metadata": {},
   "outputs": [],
   "source": [
    "def review_to_nouns(review):\n",
    "    token=nltk.word_tokenize(review)\n",
    "    nouns=[word for (word, pos) in nltk.pos_tag(token) if is_noun(pos)]\n",
    "    return nouns\n"
   ]
  },
  {
   "cell_type": "code",
   "execution_count": 214,
   "metadata": {},
   "outputs": [
    {
     "name": "stdout",
     "output_type": "stream",
     "text": [
      "['food', 'pizza', 'pasta', 'noodles']\n"
     ]
    }
   ],
   "source": [
    "real_review='Such good food!  I loved the pizza, pasta, and noodles!'\n",
    "print(review_to_nouns(real_review))"
   ]
  },
  {
   "cell_type": "code",
   "execution_count": 192,
   "metadata": {},
   "outputs": [],
   "source": [
    "def food_related(nouns):\n",
    "    #this takes in a list of wordnet nouns, and returns the list that are\n",
    "    #>.20 based on WUP lexical related in Wordnet\n",
    "    final_list=[]\n",
    "    for word in nouns:\n",
    "        temp=word\n",
    "        word=word+'.n.01'\n",
    "        try:\n",
    "            if food.wup_similarity(wn.synset(word))>0.2:\n",
    "                final_list.append(temp)\n",
    "        except:\n",
    "            pass\n",
    "            \n",
    "    return final_list"
   ]
  },
  {
   "cell_type": "code",
   "execution_count": 224,
   "metadata": {},
   "outputs": [
    {
     "name": "stdout",
     "output_type": "stream",
     "text": [
      "['food', 'pizza', 'pasta']\n"
     ]
    }
   ],
   "source": [
    "print(food_related(review_to_nouns(real_review)))"
   ]
  },
  {
   "cell_type": "code",
   "execution_count": 207,
   "metadata": {},
   "outputs": [],
   "source": [
    "import random\n",
    "\n",
    "def clean_up(sentence, nouns):\n",
    "    final=[]\n",
    "    for word in sentence.split(' '):\n",
    "        if word in nouns:\n",
    "            word=random.choice(food_related(nouns))\n",
    "            final.append(word)\n",
    "        else:\n",
    "            final.append(word)\n",
    "        \n",
    "   \n",
    "    print(\" \".join(final))\n",
    "    return"
   ]
  },
  {
   "cell_type": "code",
   "execution_count": 208,
   "metadata": {},
   "outputs": [
    {
     "name": "stdout",
     "output_type": "stream",
     "text": [
      "This sushi was great!  I would eat the sushi here any sushi of the week.  Next place maybe get the place place too!\n"
     ]
    }
   ],
   "source": [
    "clean_up(review, nouns)"
   ]
  },
  {
   "cell_type": "code",
   "execution_count": 215,
   "metadata": {
    "collapsed": true
   },
   "outputs": [],
   "source": [
    "generic_review='Grew up on their Jerk Pork sauce was extremely rich.  I have a small place.'"
   ]
  },
  {
   "cell_type": "code",
   "execution_count": 216,
   "metadata": {
    "collapsed": true
   },
   "outputs": [],
   "source": [
    "red_lobster='The food was great. A little bit salty, but one of the best meals I have had in a while. The staff was friendly and AMAZING! They made a little mistake serving me packs of hand towelettes instead of serving me crackers with my soup, but mistakes can happen. I highly recommend the clan chowder and, of course, the cheddar biscuits. Food was great and in large amount! The bread they serve was Yummy and you can have as many pieces as you want. Worth price and definitely worth going! The waiter was so friendly and warm hearted! Pleasant experience! Great food and good service. The bar harbor lobster bake is definitely a winner! The cheddar biscuits are awesome as always. Bring your appetite because there portions are very filling.'"
   ]
  },
  {
   "cell_type": "code",
   "execution_count": 220,
   "metadata": {
    "collapsed": true
   },
   "outputs": [],
   "source": [
    "fake=review_to_nouns(generic_review)\n",
    "real=review_to_nouns(red_lobster)"
   ]
  },
  {
   "cell_type": "code",
   "execution_count": 222,
   "metadata": {},
   "outputs": [
    {
     "name": "stdout",
     "output_type": "stream",
     "text": [
      "['food', 'bit', 'salty', 'meals', 'while', 'staff', 'mistake', 'packs', 'hand', 'towelettes', 'crackers', 'soup', 'mistakes', 'clan', 'chowder', 'course', 'cheddar', 'biscuits', 'Food', 'amount', 'bread', 'Yummy', 'pieces', 'price', 'waiter', 'experience', 'Great', 'food', 'service', 'bar', 'harbor', 'lobster', 'bake', 'winner', 'cheddar', 'biscuits', 'appetite', 'portions']\n"
     ]
    }
   ],
   "source": [
    "print(real)"
   ]
  },
  {
   "cell_type": "code",
   "execution_count": null,
   "metadata": {
    "collapsed": true
   },
   "outputs": [],
   "source": [
    "food_related(nouns)"
   ]
  },
  {
   "cell_type": "code",
   "execution_count": null,
   "metadata": {
    "collapsed": true
   },
   "outputs": [],
   "source": [
    "clean_up(sentence, nouns)"
   ]
  },
  {
   "cell_type": "code",
   "execution_count": null,
   "metadata": {
    "collapsed": true
   },
   "outputs": [],
   "source": [
    "'''\n",
    "Final Infrastructure\n",
    "select a random review\n",
    "run it through big function to return everything\n",
    "... or just use small functions run through one at a time\n",
    "can make it 2-3 steps I suppose\n",
    "STEP 1 tokenize and check nouns \n",
    "DO for other one too\n",
    "Step 2 run them through on food related for both\n",
    "Step 3 replace the food related nouns only from the other one (currently it replaces all nouns with food)\n",
    "---Easy fix: have it take 3 arguments: Current Review, current food nouns, future food nouns\n",
    "\n",
    "'''"
   ]
  }
 ],
 "metadata": {
  "kernelspec": {
   "display_name": "Python [default]",
   "language": "python",
   "name": "python3"
  },
  "language_info": {
   "codemirror_mode": {
    "name": "ipython",
    "version": 3
   },
   "file_extension": ".py",
   "mimetype": "text/x-python",
   "name": "python",
   "nbconvert_exporter": "python",
   "pygments_lexer": "ipython3",
   "version": "3.5.3"
  },
  "toc": {
   "colors": {
    "hover_highlight": "#DAA520",
    "navigate_num": "#000000",
    "navigate_text": "#333333",
    "running_highlight": "#FF0000",
    "selected_highlight": "#FFD700",
    "sidebar_border": "#EEEEEE",
    "wrapper_background": "#FFFFFF"
   },
   "moveMenuLeft": true,
   "nav_menu": {
    "height": "12px",
    "width": "252px"
   },
   "navigate_menu": true,
   "number_sections": true,
   "sideBar": true,
   "threshold": 4,
   "toc_cell": false,
   "toc_section_display": "block",
   "toc_window_display": false,
   "widenNotebook": false
  }
 },
 "nbformat": 4,
 "nbformat_minor": 2
}
