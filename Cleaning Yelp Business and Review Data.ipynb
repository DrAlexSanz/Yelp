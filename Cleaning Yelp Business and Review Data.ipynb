{
 "cells": [
  {
   "cell_type": "code",
   "execution_count": 1,
   "metadata": {
    "collapsed": true
   },
   "outputs": [],
   "source": [
    "import pandas as pd"
   ]
  },
  {
   "cell_type": "code",
   "execution_count": 2,
   "metadata": {
    "collapsed": true
   },
   "outputs": [],
   "source": [
    "df=pd.read_csv('business.csv')"
   ]
  },
  {
   "cell_type": "code",
   "execution_count": 3,
   "metadata": {},
   "outputs": [
    {
     "data": {
      "text/html": [
       "<div>\n",
       "<style>\n",
       "    .dataframe thead tr:only-child th {\n",
       "        text-align: right;\n",
       "    }\n",
       "\n",
       "    .dataframe thead th {\n",
       "        text-align: left;\n",
       "    }\n",
       "\n",
       "    .dataframe tbody tr th {\n",
       "        vertical-align: top;\n",
       "    }\n",
       "</style>\n",
       "<table border=\"1\" class=\"dataframe\">\n",
       "  <thead>\n",
       "    <tr style=\"text-align: right;\">\n",
       "      <th></th>\n",
       "      <th>attributes.Ambience.divey</th>\n",
       "      <th>attributes.RestaurantsDelivery</th>\n",
       "      <th>attributes.DogsAllowed</th>\n",
       "      <th>postal_code</th>\n",
       "      <th>hours.Thursday</th>\n",
       "      <th>attributes.HairSpecializesIn.coloring</th>\n",
       "      <th>attributes.BestNights.sunday</th>\n",
       "      <th>attributes.BYOB</th>\n",
       "      <th>attributes.AgesAllowed</th>\n",
       "      <th>attributes.Music.video</th>\n",
       "      <th>...</th>\n",
       "      <th>attributes.Caters</th>\n",
       "      <th>attributes.RestaurantsReservations</th>\n",
       "      <th>attributes.DietaryRestrictions.dairy-free</th>\n",
       "      <th>attributes.DietaryRestrictions.vegan</th>\n",
       "      <th>attributes.Ambience.romantic</th>\n",
       "      <th>attributes.Music.jukebox</th>\n",
       "      <th>attributes.Ambience.upscale</th>\n",
       "      <th>attributes.RestaurantsTakeOut</th>\n",
       "      <th>attributes.BikeParking</th>\n",
       "      <th>attributes.OutdoorSeating</th>\n",
       "    </tr>\n",
       "  </thead>\n",
       "  <tbody>\n",
       "    <tr>\n",
       "      <th>0</th>\n",
       "      <td>NaN</td>\n",
       "      <td>NaN</td>\n",
       "      <td>NaN</td>\n",
       "      <td>44143</td>\n",
       "      <td>10:00-21:00</td>\n",
       "      <td>NaN</td>\n",
       "      <td>NaN</td>\n",
       "      <td>NaN</td>\n",
       "      <td>NaN</td>\n",
       "      <td>NaN</td>\n",
       "      <td>...</td>\n",
       "      <td>NaN</td>\n",
       "      <td>NaN</td>\n",
       "      <td>NaN</td>\n",
       "      <td>NaN</td>\n",
       "      <td>NaN</td>\n",
       "      <td>NaN</td>\n",
       "      <td>NaN</td>\n",
       "      <td>NaN</td>\n",
       "      <td>True</td>\n",
       "      <td>NaN</td>\n",
       "    </tr>\n",
       "    <tr>\n",
       "      <th>1</th>\n",
       "      <td>False</td>\n",
       "      <td>True</td>\n",
       "      <td>NaN</td>\n",
       "      <td>28215</td>\n",
       "      <td>10:00-22:00</td>\n",
       "      <td>NaN</td>\n",
       "      <td>NaN</td>\n",
       "      <td>NaN</td>\n",
       "      <td>NaN</td>\n",
       "      <td>NaN</td>\n",
       "      <td>...</td>\n",
       "      <td>NaN</td>\n",
       "      <td>False</td>\n",
       "      <td>NaN</td>\n",
       "      <td>NaN</td>\n",
       "      <td>False</td>\n",
       "      <td>NaN</td>\n",
       "      <td>False</td>\n",
       "      <td>True</td>\n",
       "      <td>NaN</td>\n",
       "      <td>False</td>\n",
       "    </tr>\n",
       "    <tr>\n",
       "      <th>2</th>\n",
       "      <td>NaN</td>\n",
       "      <td>NaN</td>\n",
       "      <td>NaN</td>\n",
       "      <td>M4K 1N7</td>\n",
       "      <td>10:00-19:00</td>\n",
       "      <td>NaN</td>\n",
       "      <td>NaN</td>\n",
       "      <td>NaN</td>\n",
       "      <td>NaN</td>\n",
       "      <td>NaN</td>\n",
       "      <td>...</td>\n",
       "      <td>NaN</td>\n",
       "      <td>NaN</td>\n",
       "      <td>NaN</td>\n",
       "      <td>NaN</td>\n",
       "      <td>NaN</td>\n",
       "      <td>NaN</td>\n",
       "      <td>NaN</td>\n",
       "      <td>NaN</td>\n",
       "      <td>True</td>\n",
       "      <td>False</td>\n",
       "    </tr>\n",
       "    <tr>\n",
       "      <th>3</th>\n",
       "      <td>NaN</td>\n",
       "      <td>NaN</td>\n",
       "      <td>NaN</td>\n",
       "      <td>85258</td>\n",
       "      <td>9:00-17:00</td>\n",
       "      <td>NaN</td>\n",
       "      <td>NaN</td>\n",
       "      <td>NaN</td>\n",
       "      <td>NaN</td>\n",
       "      <td>NaN</td>\n",
       "      <td>...</td>\n",
       "      <td>NaN</td>\n",
       "      <td>NaN</td>\n",
       "      <td>NaN</td>\n",
       "      <td>NaN</td>\n",
       "      <td>NaN</td>\n",
       "      <td>NaN</td>\n",
       "      <td>NaN</td>\n",
       "      <td>NaN</td>\n",
       "      <td>NaN</td>\n",
       "      <td>NaN</td>\n",
       "    </tr>\n",
       "    <tr>\n",
       "      <th>4</th>\n",
       "      <td>False</td>\n",
       "      <td>False</td>\n",
       "      <td>NaN</td>\n",
       "      <td>85016</td>\n",
       "      <td>NaN</td>\n",
       "      <td>NaN</td>\n",
       "      <td>NaN</td>\n",
       "      <td>NaN</td>\n",
       "      <td>NaN</td>\n",
       "      <td>NaN</td>\n",
       "      <td>...</td>\n",
       "      <td>True</td>\n",
       "      <td>False</td>\n",
       "      <td>NaN</td>\n",
       "      <td>NaN</td>\n",
       "      <td>False</td>\n",
       "      <td>NaN</td>\n",
       "      <td>False</td>\n",
       "      <td>True</td>\n",
       "      <td>True</td>\n",
       "      <td>False</td>\n",
       "    </tr>\n",
       "  </tbody>\n",
       "</table>\n",
       "<p>5 rows × 101 columns</p>\n",
       "</div>"
      ],
      "text/plain": [
       "  attributes.Ambience.divey attributes.RestaurantsDelivery  \\\n",
       "0                       NaN                            NaN   \n",
       "1                     False                           True   \n",
       "2                       NaN                            NaN   \n",
       "3                       NaN                            NaN   \n",
       "4                     False                          False   \n",
       "\n",
       "  attributes.DogsAllowed postal_code hours.Thursday  \\\n",
       "0                    NaN       44143    10:00-21:00   \n",
       "1                    NaN       28215    10:00-22:00   \n",
       "2                    NaN     M4K 1N7    10:00-19:00   \n",
       "3                    NaN       85258     9:00-17:00   \n",
       "4                    NaN       85016            NaN   \n",
       "\n",
       "  attributes.HairSpecializesIn.coloring attributes.BestNights.sunday  \\\n",
       "0                                   NaN                          NaN   \n",
       "1                                   NaN                          NaN   \n",
       "2                                   NaN                          NaN   \n",
       "3                                   NaN                          NaN   \n",
       "4                                   NaN                          NaN   \n",
       "\n",
       "  attributes.BYOB attributes.AgesAllowed attributes.Music.video  \\\n",
       "0             NaN                    NaN                    NaN   \n",
       "1             NaN                    NaN                    NaN   \n",
       "2             NaN                    NaN                    NaN   \n",
       "3             NaN                    NaN                    NaN   \n",
       "4             NaN                    NaN                    NaN   \n",
       "\n",
       "             ...            attributes.Caters  \\\n",
       "0            ...                          NaN   \n",
       "1            ...                          NaN   \n",
       "2            ...                          NaN   \n",
       "3            ...                          NaN   \n",
       "4            ...                         True   \n",
       "\n",
       "   attributes.RestaurantsReservations  \\\n",
       "0                                 NaN   \n",
       "1                               False   \n",
       "2                                 NaN   \n",
       "3                                 NaN   \n",
       "4                               False   \n",
       "\n",
       "  attributes.DietaryRestrictions.dairy-free  \\\n",
       "0                                       NaN   \n",
       "1                                       NaN   \n",
       "2                                       NaN   \n",
       "3                                       NaN   \n",
       "4                                       NaN   \n",
       "\n",
       "  attributes.DietaryRestrictions.vegan attributes.Ambience.romantic  \\\n",
       "0                                  NaN                          NaN   \n",
       "1                                  NaN                        False   \n",
       "2                                  NaN                          NaN   \n",
       "3                                  NaN                          NaN   \n",
       "4                                  NaN                        False   \n",
       "\n",
       "  attributes.Music.jukebox attributes.Ambience.upscale  \\\n",
       "0                      NaN                         NaN   \n",
       "1                      NaN                       False   \n",
       "2                      NaN                         NaN   \n",
       "3                      NaN                         NaN   \n",
       "4                      NaN                       False   \n",
       "\n",
       "  attributes.RestaurantsTakeOut attributes.BikeParking  \\\n",
       "0                           NaN                   True   \n",
       "1                          True                    NaN   \n",
       "2                           NaN                   True   \n",
       "3                           NaN                    NaN   \n",
       "4                          True                   True   \n",
       "\n",
       "  attributes.OutdoorSeating  \n",
       "0                       NaN  \n",
       "1                     False  \n",
       "2                     False  \n",
       "3                       NaN  \n",
       "4                     False  \n",
       "\n",
       "[5 rows x 101 columns]"
      ]
     },
     "execution_count": 3,
     "metadata": {},
     "output_type": "execute_result"
    }
   ],
   "source": [
    "df.head()"
   ]
  },
  {
   "cell_type": "code",
   "execution_count": 20,
   "metadata": {},
   "outputs": [
    {
     "data": {
      "text/plain": [
       "Index(['attributes.Ambience.divey', 'attributes.RestaurantsDelivery',\n",
       "       'attributes.DogsAllowed', 'postal_code', 'hours.Thursday',\n",
       "       'attributes.HairSpecializesIn.coloring', 'attributes.BestNights.sunday',\n",
       "       'attributes.BYOB', 'attributes.AgesAllowed', 'attributes.Music.video',\n",
       "       ...\n",
       "       'attributes.Caters', 'attributes.RestaurantsReservations',\n",
       "       'attributes.DietaryRestrictions.dairy-free',\n",
       "       'attributes.DietaryRestrictions.vegan', 'attributes.Ambience.romantic',\n",
       "       'attributes.Music.jukebox', 'attributes.Ambience.upscale',\n",
       "       'attributes.RestaurantsTakeOut', 'attributes.BikeParking',\n",
       "       'attributes.OutdoorSeating'],\n",
       "      dtype='object', length=101)"
      ]
     },
     "execution_count": 20,
     "metadata": {},
     "output_type": "execute_result"
    }
   ],
   "source": [
    "df.columns[0:]"
   ]
  },
  {
   "cell_type": "code",
   "execution_count": 7,
   "metadata": {},
   "outputs": [
    {
     "data": {
      "text/plain": [
       "['attributes.Ambience.divey',\n",
       " 'attributes.RestaurantsDelivery',\n",
       " 'attributes.DogsAllowed',\n",
       " 'postal_code',\n",
       " 'hours.Thursday',\n",
       " 'attributes.HairSpecializesIn.coloring',\n",
       " 'attributes.BestNights.sunday',\n",
       " 'attributes.BYOB',\n",
       " 'attributes.AgesAllowed',\n",
       " 'attributes.Music.video',\n",
       " 'hours.Friday',\n",
       " 'latitude',\n",
       " 'attributes.Alcohol',\n",
       " 'attributes.Ambience.classy',\n",
       " 'attributes.RestaurantsTableService',\n",
       " 'business_id',\n",
       " 'attributes.Ambience.touristy',\n",
       " 'attributes.RestaurantsCounterService',\n",
       " 'attributes.Corkage',\n",
       " 'attributes.RestaurantsGoodForGroups',\n",
       " 'categories',\n",
       " 'name',\n",
       " 'attributes.BusinessAcceptsBitcoin',\n",
       " 'attributes.HappyHour',\n",
       " 'attributes.WheelchairAccessible',\n",
       " 'attributes.Ambience.hipster',\n",
       " 'attributes.BusinessAcceptsCreditCards',\n",
       " 'is_open',\n",
       " 'attributes.DietaryRestrictions.vegetarian',\n",
       " 'attributes.Music.live',\n",
       " 'attributes.Music.background_music',\n",
       " 'neighborhood',\n",
       " 'attributes.BusinessParking.lot',\n",
       " 'attributes.Music.karaoke',\n",
       " 'review_count',\n",
       " 'attributes.GoodForMeal.breakfast',\n",
       " 'attributes.NoiseLevel',\n",
       " 'attributes.HairSpecializesIn.perms',\n",
       " 'state',\n",
       " 'attributes.DriveThru',\n",
       " 'attributes.HasTV',\n",
       " 'attributes.GoodForMeal.dinner',\n",
       " 'attributes.BusinessParking.street',\n",
       " 'address',\n",
       " 'attributes.RestaurantsAttire',\n",
       " 'hours.Sunday',\n",
       " 'attributes.BestNights.tuesday',\n",
       " 'attributes.AcceptsInsurance',\n",
       " 'attributes.BestNights.wednesday',\n",
       " 'hours.Wednesday',\n",
       " 'attributes.HairSpecializesIn.kids',\n",
       " 'attributes.Open24Hours',\n",
       " 'attributes.Ambience.trendy',\n",
       " 'attributes.CoatCheck',\n",
       " 'hours.Monday',\n",
       " 'attributes.HairSpecializesIn.straightperms',\n",
       " 'city',\n",
       " 'attributes.HairSpecializesIn.curly',\n",
       " 'attributes.Music.no_music',\n",
       " 'hours.Tuesday',\n",
       " 'attributes.HairSpecializesIn.africanamerican',\n",
       " 'stars',\n",
       " 'attributes.RestaurantsPriceRange2',\n",
       " 'attributes.Ambience.intimate',\n",
       " 'attributes.GoodForMeal.latenight',\n",
       " 'attributes.GoodForMeal.dessert',\n",
       " 'attributes.BusinessParking.validated',\n",
       " 'attributes.GoodForMeal.lunch',\n",
       " 'attributes.GoodForKids',\n",
       " 'attributes.DietaryRestrictions.soy-free',\n",
       " 'attributes.GoodForMeal.brunch',\n",
       " 'attributes.BusinessParking.valet',\n",
       " 'longitude',\n",
       " 'attributes.DietaryRestrictions.gluten-free',\n",
       " 'attributes.BYOBCorkage',\n",
       " 'attributes.BusinessParking.garage',\n",
       " 'attributes.BestNights.friday',\n",
       " 'hours.Saturday',\n",
       " 'attributes.Music.dj',\n",
       " 'attributes.HairSpecializesIn.extensions',\n",
       " 'attributes.BestNights.saturday',\n",
       " 'attributes.Ambience.casual',\n",
       " 'attributes.BestNights.thursday',\n",
       " 'attributes.BestNights.monday',\n",
       " 'attributes.HairSpecializesIn.asian',\n",
       " 'attributes.DietaryRestrictions.kosher',\n",
       " 'attributes.WiFi',\n",
       " 'attributes.Smoking',\n",
       " 'attributes.DietaryRestrictions.halal',\n",
       " 'attributes.GoodForDancing',\n",
       " 'attributes.ByAppointmentOnly',\n",
       " 'attributes.Caters',\n",
       " 'attributes.RestaurantsReservations',\n",
       " 'attributes.DietaryRestrictions.dairy-free',\n",
       " 'attributes.DietaryRestrictions.vegan',\n",
       " 'attributes.Ambience.romantic',\n",
       " 'attributes.Music.jukebox',\n",
       " 'attributes.Ambience.upscale',\n",
       " 'attributes.RestaurantsTakeOut',\n",
       " 'attributes.BikeParking',\n",
       " 'attributes.OutdoorSeating']"
      ]
     },
     "execution_count": 7,
     "metadata": {},
     "output_type": "execute_result"
    }
   ],
   "source": [
    "list(df.columns.values)"
   ]
  },
  {
   "cell_type": "code",
   "execution_count": 3,
   "metadata": {},
   "outputs": [
    {
     "data": {
      "text/plain": [
       "(156639, 101)"
      ]
     },
     "execution_count": 3,
     "metadata": {},
     "output_type": "execute_result"
    }
   ],
   "source": [
    "df.shape"
   ]
  },
  {
   "cell_type": "code",
   "execution_count": 29,
   "metadata": {},
   "outputs": [
    {
     "data": {
      "text/plain": [
       "'ON'"
      ]
     },
     "execution_count": 29,
     "metadata": {},
     "output_type": "execute_result"
    }
   ],
   "source": [
    "df.iloc[22]['state']"
   ]
  },
  {
   "cell_type": "code",
   "execution_count": 4,
   "metadata": {
    "collapsed": true
   },
   "outputs": [],
   "source": [
    "df2=pd.read_csv('review.csv')"
   ]
  },
  {
   "cell_type": "code",
   "execution_count": 10,
   "metadata": {},
   "outputs": [
    {
     "data": {
      "text/plain": [
       "(4736897, 9)"
      ]
     },
     "execution_count": 10,
     "metadata": {},
     "output_type": "execute_result"
    }
   ],
   "source": [
    "df2.shape"
   ]
  },
  {
   "cell_type": "code",
   "execution_count": 11,
   "metadata": {},
   "outputs": [
    {
     "data": {
      "text/html": [
       "<div>\n",
       "<style>\n",
       "    .dataframe thead tr:only-child th {\n",
       "        text-align: right;\n",
       "    }\n",
       "\n",
       "    .dataframe thead th {\n",
       "        text-align: left;\n",
       "    }\n",
       "\n",
       "    .dataframe tbody tr th {\n",
       "        vertical-align: top;\n",
       "    }\n",
       "</style>\n",
       "<table border=\"1\" class=\"dataframe\">\n",
       "  <thead>\n",
       "    <tr style=\"text-align: right;\">\n",
       "      <th></th>\n",
       "      <th>funny</th>\n",
       "      <th>user_id</th>\n",
       "      <th>review_id</th>\n",
       "      <th>text</th>\n",
       "      <th>business_id</th>\n",
       "      <th>stars</th>\n",
       "      <th>date</th>\n",
       "      <th>useful</th>\n",
       "      <th>cool</th>\n",
       "    </tr>\n",
       "  </thead>\n",
       "  <tbody>\n",
       "    <tr>\n",
       "      <th>0</th>\n",
       "      <td>0</td>\n",
       "      <td>cjpdDjZyprfyDG3RlkVG3w</td>\n",
       "      <td>VfBHSwC5Vz_pbFluy07i9Q</td>\n",
       "      <td>My girlfriend and I stayed here for 3 nights a...</td>\n",
       "      <td>uYHaNptLzDLoV_JZ_MuzUA</td>\n",
       "      <td>5</td>\n",
       "      <td>2016-07-12</td>\n",
       "      <td>0</td>\n",
       "      <td>0</td>\n",
       "    </tr>\n",
       "    <tr>\n",
       "      <th>1</th>\n",
       "      <td>0</td>\n",
       "      <td>bjTcT8Ty4cJZhEOEo01FGA</td>\n",
       "      <td>3zRpneRKDsOPq92tq7ybAA</td>\n",
       "      <td>If you need an inexpensive place to stay for a...</td>\n",
       "      <td>uYHaNptLzDLoV_JZ_MuzUA</td>\n",
       "      <td>3</td>\n",
       "      <td>2016-10-02</td>\n",
       "      <td>0</td>\n",
       "      <td>0</td>\n",
       "    </tr>\n",
       "    <tr>\n",
       "      <th>2</th>\n",
       "      <td>0</td>\n",
       "      <td>AXgRULmWcME7J6Ix3I--ww</td>\n",
       "      <td>ne5WhI1jUFOcRn-b-gAzHA</td>\n",
       "      <td>Mittlerweile gibt es in Edinburgh zwei Ableger...</td>\n",
       "      <td>uYHaNptLzDLoV_JZ_MuzUA</td>\n",
       "      <td>3</td>\n",
       "      <td>2015-09-17</td>\n",
       "      <td>0</td>\n",
       "      <td>0</td>\n",
       "    </tr>\n",
       "    <tr>\n",
       "      <th>3</th>\n",
       "      <td>0</td>\n",
       "      <td>oU2SSOmsp_A8JYI7Z2JJ5w</td>\n",
       "      <td>llmdwOgDReucVoWEry61Lw</td>\n",
       "      <td>Location is everything and this hotel has it! ...</td>\n",
       "      <td>uYHaNptLzDLoV_JZ_MuzUA</td>\n",
       "      <td>4</td>\n",
       "      <td>2016-08-21</td>\n",
       "      <td>0</td>\n",
       "      <td>0</td>\n",
       "    </tr>\n",
       "    <tr>\n",
       "      <th>4</th>\n",
       "      <td>0</td>\n",
       "      <td>0xtbPEna2Kei11vsU-U2Mw</td>\n",
       "      <td>DuffS87NaSMDmIfluvT83g</td>\n",
       "      <td>gute lage im stadtzentrum. shoppingmeile und s...</td>\n",
       "      <td>uYHaNptLzDLoV_JZ_MuzUA</td>\n",
       "      <td>5</td>\n",
       "      <td>2013-11-20</td>\n",
       "      <td>0</td>\n",
       "      <td>0</td>\n",
       "    </tr>\n",
       "  </tbody>\n",
       "</table>\n",
       "</div>"
      ],
      "text/plain": [
       "   funny                 user_id               review_id  \\\n",
       "0      0  cjpdDjZyprfyDG3RlkVG3w  VfBHSwC5Vz_pbFluy07i9Q   \n",
       "1      0  bjTcT8Ty4cJZhEOEo01FGA  3zRpneRKDsOPq92tq7ybAA   \n",
       "2      0  AXgRULmWcME7J6Ix3I--ww  ne5WhI1jUFOcRn-b-gAzHA   \n",
       "3      0  oU2SSOmsp_A8JYI7Z2JJ5w  llmdwOgDReucVoWEry61Lw   \n",
       "4      0  0xtbPEna2Kei11vsU-U2Mw  DuffS87NaSMDmIfluvT83g   \n",
       "\n",
       "                                                text             business_id  \\\n",
       "0  My girlfriend and I stayed here for 3 nights a...  uYHaNptLzDLoV_JZ_MuzUA   \n",
       "1  If you need an inexpensive place to stay for a...  uYHaNptLzDLoV_JZ_MuzUA   \n",
       "2  Mittlerweile gibt es in Edinburgh zwei Ableger...  uYHaNptLzDLoV_JZ_MuzUA   \n",
       "3  Location is everything and this hotel has it! ...  uYHaNptLzDLoV_JZ_MuzUA   \n",
       "4  gute lage im stadtzentrum. shoppingmeile und s...  uYHaNptLzDLoV_JZ_MuzUA   \n",
       "\n",
       "   stars        date  useful  cool  \n",
       "0      5  2016-07-12       0     0  \n",
       "1      3  2016-10-02       0     0  \n",
       "2      3  2015-09-17       0     0  \n",
       "3      4  2016-08-21       0     0  \n",
       "4      5  2013-11-20       0     0  "
      ]
     },
     "execution_count": 11,
     "metadata": {},
     "output_type": "execute_result"
    }
   ],
   "source": [
    "df2.head()"
   ]
  },
  {
   "cell_type": "code",
   "execution_count": 17,
   "metadata": {},
   "outputs": [
    {
     "data": {
      "text/html": [
       "<div>\n",
       "<style>\n",
       "    .dataframe thead tr:only-child th {\n",
       "        text-align: right;\n",
       "    }\n",
       "\n",
       "    .dataframe thead th {\n",
       "        text-align: left;\n",
       "    }\n",
       "\n",
       "    .dataframe tbody tr th {\n",
       "        vertical-align: top;\n",
       "    }\n",
       "</style>\n",
       "<table border=\"1\" class=\"dataframe\">\n",
       "  <thead>\n",
       "    <tr style=\"text-align: right;\">\n",
       "      <th></th>\n",
       "      <th>funny</th>\n",
       "      <th>user_id</th>\n",
       "      <th>review_id</th>\n",
       "      <th>text</th>\n",
       "      <th>business_id</th>\n",
       "      <th>stars</th>\n",
       "      <th>date</th>\n",
       "      <th>useful</th>\n",
       "      <th>cool</th>\n",
       "    </tr>\n",
       "  </thead>\n",
       "  <tbody>\n",
       "    <tr>\n",
       "      <th>4736892</th>\n",
       "      <td>3</td>\n",
       "      <td>cQU8IWVEJYcklBJbW9CzdQ</td>\n",
       "      <td>JRMc2ESqsYYHCMsMlWyx-Q</td>\n",
       "      <td>Downtown LV is trying so hard to be Hipster ce...</td>\n",
       "      <td>iJ4uoZkPNJ39Vfh0HirI3w</td>\n",
       "      <td>3</td>\n",
       "      <td>2015-07-19</td>\n",
       "      <td>4</td>\n",
       "      <td>2</td>\n",
       "    </tr>\n",
       "    <tr>\n",
       "      <th>4736893</th>\n",
       "      <td>1</td>\n",
       "      <td>7HOBCw1pTaZU5qcqwwNy3w</td>\n",
       "      <td>VW304lsvKZ5KgXHqt_V3wA</td>\n",
       "      <td>After three days of working an anime conventio...</td>\n",
       "      <td>iJ4uoZkPNJ39Vfh0HirI3w</td>\n",
       "      <td>5</td>\n",
       "      <td>2015-09-07</td>\n",
       "      <td>4</td>\n",
       "      <td>2</td>\n",
       "    </tr>\n",
       "    <tr>\n",
       "      <th>4736894</th>\n",
       "      <td>2</td>\n",
       "      <td>Q-ydrhfqmmOxRb38H6mmEQ</td>\n",
       "      <td>8gikTIY-HRdGg7FnRNldng</td>\n",
       "      <td>I'll give this place 2-stars as I'm all for su...</td>\n",
       "      <td>iJ4uoZkPNJ39Vfh0HirI3w</td>\n",
       "      <td>2</td>\n",
       "      <td>2015-09-10</td>\n",
       "      <td>1</td>\n",
       "      <td>0</td>\n",
       "    </tr>\n",
       "    <tr>\n",
       "      <th>4736895</th>\n",
       "      <td>0</td>\n",
       "      <td>i6KWlHBp3WwnlBACWvrsUw</td>\n",
       "      <td>3BCbmgjBhro-RZQUjM0Xxg</td>\n",
       "      <td>The vibe here is awesome. Great art &amp; music. \\...</td>\n",
       "      <td>iJ4uoZkPNJ39Vfh0HirI3w</td>\n",
       "      <td>5</td>\n",
       "      <td>2015-04-21</td>\n",
       "      <td>1</td>\n",
       "      <td>0</td>\n",
       "    </tr>\n",
       "    <tr>\n",
       "      <th>4736896</th>\n",
       "      <td>0</td>\n",
       "      <td>_zMsJzjl6fXHb9mmr1l9Wg</td>\n",
       "      <td>zVqfgEqvIvLDpUc4hjTubw</td>\n",
       "      <td>This place was amazing! It's a little past Fre...</td>\n",
       "      <td>iJ4uoZkPNJ39Vfh0HirI3w</td>\n",
       "      <td>5</td>\n",
       "      <td>2016-06-24</td>\n",
       "      <td>0</td>\n",
       "      <td>0</td>\n",
       "    </tr>\n",
       "  </tbody>\n",
       "</table>\n",
       "</div>"
      ],
      "text/plain": [
       "         funny                 user_id               review_id  \\\n",
       "4736892      3  cQU8IWVEJYcklBJbW9CzdQ  JRMc2ESqsYYHCMsMlWyx-Q   \n",
       "4736893      1  7HOBCw1pTaZU5qcqwwNy3w  VW304lsvKZ5KgXHqt_V3wA   \n",
       "4736894      2  Q-ydrhfqmmOxRb38H6mmEQ  8gikTIY-HRdGg7FnRNldng   \n",
       "4736895      0  i6KWlHBp3WwnlBACWvrsUw  3BCbmgjBhro-RZQUjM0Xxg   \n",
       "4736896      0  _zMsJzjl6fXHb9mmr1l9Wg  zVqfgEqvIvLDpUc4hjTubw   \n",
       "\n",
       "                                                      text  \\\n",
       "4736892  Downtown LV is trying so hard to be Hipster ce...   \n",
       "4736893  After three days of working an anime conventio...   \n",
       "4736894  I'll give this place 2-stars as I'm all for su...   \n",
       "4736895  The vibe here is awesome. Great art & music. \\...   \n",
       "4736896  This place was amazing! It's a little past Fre...   \n",
       "\n",
       "                    business_id  stars        date  useful  cool  \n",
       "4736892  iJ4uoZkPNJ39Vfh0HirI3w      3  2015-07-19       4     2  \n",
       "4736893  iJ4uoZkPNJ39Vfh0HirI3w      5  2015-09-07       4     2  \n",
       "4736894  iJ4uoZkPNJ39Vfh0HirI3w      2  2015-09-10       1     0  \n",
       "4736895  iJ4uoZkPNJ39Vfh0HirI3w      5  2015-04-21       1     0  \n",
       "4736896  iJ4uoZkPNJ39Vfh0HirI3w      5  2016-06-24       0     0  "
      ]
     },
     "execution_count": 17,
     "metadata": {},
     "output_type": "execute_result"
    }
   ],
   "source": [
    "df2.tail()"
   ]
  },
  {
   "cell_type": "code",
   "execution_count": 53,
   "metadata": {},
   "outputs": [
    {
     "data": {
      "text/plain": [
       "'Definitely not a fan. Coming from Orange County, CA, I have high expectations when it comes to Asian food.  Suffice to say that Panda Express would have been a better choice, which is pretty sad.'"
      ]
     },
     "execution_count": 53,
     "metadata": {},
     "output_type": "execute_result"
    }
   ],
   "source": [
    "df2.iloc['text']"
   ]
  },
  {
   "cell_type": "code",
   "execution_count": 37,
   "metadata": {},
   "outputs": [
    {
     "data": {
      "text/plain": [
       "array(['01', '3', '75', 'ABE', 'AL', 'AZ', 'BW', 'BY', 'C', 'CA', 'DE',\n",
       "       'EDH', 'ELN', 'ESX', 'FAL', 'FIF', 'FL', 'FLN', 'GLG', 'HH', 'HLD',\n",
       "       'IL', 'KHL', 'MLN', 'NC', 'NE', 'NI', 'NLK', 'NTH', 'NV', 'NY',\n",
       "       'NYK', 'OH', 'ON', 'PA', 'PKN', 'QC', 'RCC', 'SC', 'SCB', 'SL',\n",
       "       'ST', 'STG', 'TAM', 'VT', 'WA', 'WHT', 'WI', 'WLN', 'XGL', 'ZET'], dtype=object)"
      ]
     },
     "execution_count": 37,
     "metadata": {},
     "output_type": "execute_result"
    }
   ],
   "source": [
    "import numpy as np\n",
    "np.unique(df[['state']])"
   ]
  },
  {
   "cell_type": "code",
   "execution_count": 38,
   "metadata": {},
   "outputs": [
    {
     "data": {
      "text/plain": [
       "array(['OH', 'NC', 'ON', 'AZ', 'PA', 'NV', 'EDH', 'QC', 'WI', 'IL', 'BW',\n",
       "       'HLD', 'SC', 'ESX', 'MLN', 'FIF', 'NYK', 'NI', 'ELN', 'WLN', '01',\n",
       "       'C', 'NY', 'SCB', 'AL', 'BY', 'RCC', 'ST', 'NTH', 'NLK', '75',\n",
       "       'PKN', 'HH', 'TAM', 'CA', 'KHL', 'VT', 'ABE', 'SL', 'DE', 'GLG',\n",
       "       'STG', 'ZET', 'XGL', 'WA', 'FLN', 'WHT', 'NE', 'FAL', '3', 'FL'], dtype=object)"
      ]
     },
     "execution_count": 38,
     "metadata": {},
     "output_type": "execute_result"
    }
   ],
   "source": [
    "pd.unique(df[['state']].values.ravel())"
   ]
  },
  {
   "cell_type": "code",
   "execution_count": 54,
   "metadata": {},
   "outputs": [
    {
     "data": {
      "text/plain": [
       "(156639, 101)"
      ]
     },
     "execution_count": 54,
     "metadata": {},
     "output_type": "execute_result"
    }
   ],
   "source": [
    "df.shape"
   ]
  },
  {
   "cell_type": "code",
   "execution_count": 55,
   "metadata": {},
   "outputs": [
    {
     "data": {
      "text/plain": [
       "(4736897, 9)"
      ]
     },
     "execution_count": 55,
     "metadata": {},
     "output_type": "execute_result"
    }
   ],
   "source": [
    "df2.shape"
   ]
  },
  {
   "cell_type": "code",
   "execution_count": 5,
   "metadata": {
    "collapsed": true
   },
   "outputs": [],
   "source": [
    "five_star=df2[df2['stars']==5]"
   ]
  },
  {
   "cell_type": "code",
   "execution_count": 59,
   "metadata": {},
   "outputs": [
    {
     "data": {
      "text/plain": [
       "(1988003, 9)"
      ]
     },
     "execution_count": 59,
     "metadata": {},
     "output_type": "execute_result"
    }
   ],
   "source": [
    "five_star.shape"
   ]
  },
  {
   "cell_type": "code",
   "execution_count": 6,
   "metadata": {
    "collapsed": true
   },
   "outputs": [],
   "source": [
    "restaurants = df[df['categories'].str.contains('Restaurants')]"
   ]
  },
  {
   "cell_type": "code",
   "execution_count": 141,
   "metadata": {},
   "outputs": [
    {
     "data": {
      "text/plain": [
       "(51613, 101)"
      ]
     },
     "execution_count": 141,
     "metadata": {},
     "output_type": "execute_result"
    }
   ],
   "source": [
    "restaurants.shape"
   ]
  },
  {
   "cell_type": "code",
   "execution_count": 7,
   "metadata": {
    "collapsed": true
   },
   "outputs": [],
   "source": [
    "restaurants_clean=restaurants[['business_id','name']]"
   ]
  },
  {
   "cell_type": "code",
   "execution_count": 8,
   "metadata": {},
   "outputs": [
    {
     "data": {
      "text/html": [
       "<div>\n",
       "<style>\n",
       "    .dataframe thead tr:only-child th {\n",
       "        text-align: right;\n",
       "    }\n",
       "\n",
       "    .dataframe thead th {\n",
       "        text-align: left;\n",
       "    }\n",
       "\n",
       "    .dataframe tbody tr th {\n",
       "        vertical-align: top;\n",
       "    }\n",
       "</style>\n",
       "<table border=\"1\" class=\"dataframe\">\n",
       "  <thead>\n",
       "    <tr style=\"text-align: right;\">\n",
       "      <th></th>\n",
       "      <th>business_id</th>\n",
       "      <th>name</th>\n",
       "    </tr>\n",
       "  </thead>\n",
       "  <tbody>\n",
       "    <tr>\n",
       "      <th>1</th>\n",
       "      <td>mLwM-h2YhXl2NCgdS84_Bw</td>\n",
       "      <td>South Florida Style Chicken &amp; Ribs</td>\n",
       "    </tr>\n",
       "    <tr>\n",
       "      <th>4</th>\n",
       "      <td>duHFBe87uNSXImQmvBh87Q</td>\n",
       "      <td>Blimpie</td>\n",
       "    </tr>\n",
       "    <tr>\n",
       "      <th>14</th>\n",
       "      <td>SDMRxmcKPNt1AHPBKqO64Q</td>\n",
       "      <td>Applebee's</td>\n",
       "    </tr>\n",
       "    <tr>\n",
       "      <th>15</th>\n",
       "      <td>iFEiMJoEqyB9O8OUNSdLzA</td>\n",
       "      <td>China Garden</td>\n",
       "    </tr>\n",
       "    <tr>\n",
       "      <th>21</th>\n",
       "      <td>HmI9nhgOkrXlUr6KZGZZew</td>\n",
       "      <td>Rocky's</td>\n",
       "    </tr>\n",
       "  </tbody>\n",
       "</table>\n",
       "</div>"
      ],
      "text/plain": [
       "               business_id                                name\n",
       "1   mLwM-h2YhXl2NCgdS84_Bw  South Florida Style Chicken & Ribs\n",
       "4   duHFBe87uNSXImQmvBh87Q                             Blimpie\n",
       "14  SDMRxmcKPNt1AHPBKqO64Q                          Applebee's\n",
       "15  iFEiMJoEqyB9O8OUNSdLzA                        China Garden\n",
       "21  HmI9nhgOkrXlUr6KZGZZew                             Rocky's"
      ]
     },
     "execution_count": 8,
     "metadata": {},
     "output_type": "execute_result"
    }
   ],
   "source": [
    "restaurants_clean.head()"
   ]
  },
  {
   "cell_type": "code",
   "execution_count": 147,
   "metadata": {},
   "outputs": [
    {
     "data": {
      "text/plain": [
       "(51613, 2)"
      ]
     },
     "execution_count": 147,
     "metadata": {},
     "output_type": "execute_result"
    }
   ],
   "source": [
    "restaurants_clean.shape"
   ]
  },
  {
   "cell_type": "code",
   "execution_count": 9,
   "metadata": {
    "collapsed": true
   },
   "outputs": [],
   "source": [
    "combo=pd.merge(restaurants_clean, five_star, on='business_id')"
   ]
  },
  {
   "cell_type": "code",
   "execution_count": 10,
   "metadata": {},
   "outputs": [
    {
     "data": {
      "text/plain": [
       "(1083567, 10)"
      ]
     },
     "execution_count": 10,
     "metadata": {},
     "output_type": "execute_result"
    }
   ],
   "source": [
    "combo.shape"
   ]
  },
  {
   "cell_type": "code",
   "execution_count": 12,
   "metadata": {},
   "outputs": [
    {
     "data": {
      "text/html": [
       "<div>\n",
       "<style>\n",
       "    .dataframe thead tr:only-child th {\n",
       "        text-align: right;\n",
       "    }\n",
       "\n",
       "    .dataframe thead th {\n",
       "        text-align: left;\n",
       "    }\n",
       "\n",
       "    .dataframe tbody tr th {\n",
       "        vertical-align: top;\n",
       "    }\n",
       "</style>\n",
       "<table border=\"1\" class=\"dataframe\">\n",
       "  <thead>\n",
       "    <tr style=\"text-align: right;\">\n",
       "      <th></th>\n",
       "      <th>business_id</th>\n",
       "      <th>name</th>\n",
       "      <th>funny</th>\n",
       "      <th>user_id</th>\n",
       "      <th>review_id</th>\n",
       "      <th>text</th>\n",
       "      <th>stars</th>\n",
       "      <th>date</th>\n",
       "      <th>useful</th>\n",
       "      <th>cool</th>\n",
       "    </tr>\n",
       "  </thead>\n",
       "  <tbody>\n",
       "    <tr>\n",
       "      <th>0</th>\n",
       "      <td>mLwM-h2YhXl2NCgdS84_Bw</td>\n",
       "      <td>South Florida Style Chicken &amp; Ribs</td>\n",
       "      <td>0</td>\n",
       "      <td>sV0dpo6OJJcqGqO-1aJVrQ</td>\n",
       "      <td>xrcatAnMw-li3EpnrkxOSw</td>\n",
       "      <td>Amazing food!! I can't believe it almost taste...</td>\n",
       "      <td>5</td>\n",
       "      <td>2016-08-14</td>\n",
       "      <td>0</td>\n",
       "      <td>0</td>\n",
       "    </tr>\n",
       "    <tr>\n",
       "      <th>1</th>\n",
       "      <td>mLwM-h2YhXl2NCgdS84_Bw</td>\n",
       "      <td>South Florida Style Chicken &amp; Ribs</td>\n",
       "      <td>0</td>\n",
       "      <td>Uj3eVaJZt0xcLtAg7tqYCQ</td>\n",
       "      <td>6NneO1alIF88iArTL85Ddw</td>\n",
       "      <td>Great soul food period , it's get no better, c...</td>\n",
       "      <td>5</td>\n",
       "      <td>2016-05-13</td>\n",
       "      <td>0</td>\n",
       "      <td>1</td>\n",
       "    </tr>\n",
       "    <tr>\n",
       "      <th>2</th>\n",
       "      <td>duHFBe87uNSXImQmvBh87Q</td>\n",
       "      <td>Blimpie</td>\n",
       "      <td>0</td>\n",
       "      <td>Y0QwHP4oxQ4jtk8R2PFq8g</td>\n",
       "      <td>FSUVv_zALancIFlqYcMGYA</td>\n",
       "      <td>My favorite stop. It is what you would expect ...</td>\n",
       "      <td>5</td>\n",
       "      <td>2015-07-17</td>\n",
       "      <td>0</td>\n",
       "      <td>0</td>\n",
       "    </tr>\n",
       "    <tr>\n",
       "      <th>3</th>\n",
       "      <td>duHFBe87uNSXImQmvBh87Q</td>\n",
       "      <td>Blimpie</td>\n",
       "      <td>0</td>\n",
       "      <td>F_g_b3vOcP80Q1hMWdqbxQ</td>\n",
       "      <td>GbOPClhAFxRIS8XxySV36w</td>\n",
       "      <td>This place is the best. They will make a sub t...</td>\n",
       "      <td>5</td>\n",
       "      <td>2015-07-04</td>\n",
       "      <td>0</td>\n",
       "      <td>1</td>\n",
       "    </tr>\n",
       "    <tr>\n",
       "      <th>4</th>\n",
       "      <td>duHFBe87uNSXImQmvBh87Q</td>\n",
       "      <td>Blimpie</td>\n",
       "      <td>1</td>\n",
       "      <td>4W-ZU-E82HWWUNNk9tfN6g</td>\n",
       "      <td>jxYQ4LjL10rP2o93PWoKIg</td>\n",
       "      <td>I really like their bread.  Always soft inside...</td>\n",
       "      <td>5</td>\n",
       "      <td>2015-04-08</td>\n",
       "      <td>3</td>\n",
       "      <td>2</td>\n",
       "    </tr>\n",
       "    <tr>\n",
       "      <th>5</th>\n",
       "      <td>duHFBe87uNSXImQmvBh87Q</td>\n",
       "      <td>Blimpie</td>\n",
       "      <td>1</td>\n",
       "      <td>-kBt3m5oyIppBKPn1ymLyQ</td>\n",
       "      <td>YavIrEaRUsxGHf-TRecYJw</td>\n",
       "      <td>Fast, friendly service. Good value. As a NYC/N...</td>\n",
       "      <td>5</td>\n",
       "      <td>2014-12-27</td>\n",
       "      <td>0</td>\n",
       "      <td>0</td>\n",
       "    </tr>\n",
       "    <tr>\n",
       "      <th>6</th>\n",
       "      <td>duHFBe87uNSXImQmvBh87Q</td>\n",
       "      <td>Blimpie</td>\n",
       "      <td>0</td>\n",
       "      <td>8jN7OEC8N67IY6MgssxoMA</td>\n",
       "      <td>peY8EDUZAcNwSNLYbbgDyA</td>\n",
       "      <td>This place rocks.. best customer service smile...</td>\n",
       "      <td>5</td>\n",
       "      <td>2015-07-27</td>\n",
       "      <td>0</td>\n",
       "      <td>0</td>\n",
       "    </tr>\n",
       "    <tr>\n",
       "      <th>7</th>\n",
       "      <td>duHFBe87uNSXImQmvBh87Q</td>\n",
       "      <td>Blimpie</td>\n",
       "      <td>0</td>\n",
       "      <td>OIVny4cXC6IevrYkw5EmPw</td>\n",
       "      <td>TcFKXZNFiccajH2U0pD_lQ</td>\n",
       "      <td>I was very pleased with my meal. I had never b...</td>\n",
       "      <td>5</td>\n",
       "      <td>2015-02-19</td>\n",
       "      <td>0</td>\n",
       "      <td>1</td>\n",
       "    </tr>\n",
       "    <tr>\n",
       "      <th>8</th>\n",
       "      <td>duHFBe87uNSXImQmvBh87Q</td>\n",
       "      <td>Blimpie</td>\n",
       "      <td>0</td>\n",
       "      <td>mzHRaYLoV-lwX79HghP6lw</td>\n",
       "      <td>-mYaR0MkB1amF42clw9d3g</td>\n",
       "      <td>When I want a sandwich, this is where I want i...</td>\n",
       "      <td>5</td>\n",
       "      <td>2013-11-27</td>\n",
       "      <td>1</td>\n",
       "      <td>1</td>\n",
       "    </tr>\n",
       "    <tr>\n",
       "      <th>9</th>\n",
       "      <td>SDMRxmcKPNt1AHPBKqO64Q</td>\n",
       "      <td>Applebee's</td>\n",
       "      <td>0</td>\n",
       "      <td>OLFS99qs5YZ7ynA9eP3PDg</td>\n",
       "      <td>tcyZU5vTceiwGPimr-2fiw</td>\n",
       "      <td>Applebee's has really stepped it up!  Lately w...</td>\n",
       "      <td>5</td>\n",
       "      <td>2014-11-20</td>\n",
       "      <td>0</td>\n",
       "      <td>0</td>\n",
       "    </tr>\n",
       "    <tr>\n",
       "      <th>10</th>\n",
       "      <td>SDMRxmcKPNt1AHPBKqO64Q</td>\n",
       "      <td>Applebee's</td>\n",
       "      <td>0</td>\n",
       "      <td>I63JVXaj_UdcyySTdqHbAA</td>\n",
       "      <td>ufMcybzsi5S2_nwDwjztfQ</td>\n",
       "      <td>Had a gift card and honestly BROKE right now. ...</td>\n",
       "      <td>5</td>\n",
       "      <td>2016-12-10</td>\n",
       "      <td>0</td>\n",
       "      <td>0</td>\n",
       "    </tr>\n",
       "    <tr>\n",
       "      <th>11</th>\n",
       "      <td>qnpvw-uQyRn9nlClWFK9aA</td>\n",
       "      <td>Wild Wing</td>\n",
       "      <td>0</td>\n",
       "      <td>nFbR_uUtu0u62G65IY_Frw</td>\n",
       "      <td>JwBf04j_TKUmLhNHqH6a_A</td>\n",
       "      <td>Awesome improvement   New staff is both friend...</td>\n",
       "      <td>5</td>\n",
       "      <td>2017-07-21</td>\n",
       "      <td>0</td>\n",
       "      <td>0</td>\n",
       "    </tr>\n",
       "    <tr>\n",
       "      <th>12</th>\n",
       "      <td>TXiEgINSZ75d3EtvLvkc4Q</td>\n",
       "      <td>Red Lobster</td>\n",
       "      <td>0</td>\n",
       "      <td>wvb4vwq7loygHJirHJF8TA</td>\n",
       "      <td>-Kk5F488Qyr0o7LvLaXLvA</td>\n",
       "      <td>The food was great. A little bit salty, but on...</td>\n",
       "      <td>5</td>\n",
       "      <td>2017-02-05</td>\n",
       "      <td>0</td>\n",
       "      <td>1</td>\n",
       "    </tr>\n",
       "    <tr>\n",
       "      <th>13</th>\n",
       "      <td>TXiEgINSZ75d3EtvLvkc4Q</td>\n",
       "      <td>Red Lobster</td>\n",
       "      <td>0</td>\n",
       "      <td>4ZPKNYke1POscDLJ2vpAsA</td>\n",
       "      <td>6-O6_hW83wT6Pxww6YgjvQ</td>\n",
       "      <td>Food was great and in large amount! The bread ...</td>\n",
       "      <td>5</td>\n",
       "      <td>2015-08-12</td>\n",
       "      <td>1</td>\n",
       "      <td>2</td>\n",
       "    </tr>\n",
       "    <tr>\n",
       "      <th>14</th>\n",
       "      <td>TXiEgINSZ75d3EtvLvkc4Q</td>\n",
       "      <td>Red Lobster</td>\n",
       "      <td>0</td>\n",
       "      <td>_yITLSz1SfCKNRqf8Spgkg</td>\n",
       "      <td>DUWRrsLqsk-gnTpDHeR0EA</td>\n",
       "      <td>Great food.  Always consistent.  Very tasty.  ...</td>\n",
       "      <td>5</td>\n",
       "      <td>2015-12-12</td>\n",
       "      <td>0</td>\n",
       "      <td>0</td>\n",
       "    </tr>\n",
       "    <tr>\n",
       "      <th>15</th>\n",
       "      <td>TXiEgINSZ75d3EtvLvkc4Q</td>\n",
       "      <td>Red Lobster</td>\n",
       "      <td>0</td>\n",
       "      <td>8VRvXA_mQlI_GTETGN37jQ</td>\n",
       "      <td>Bd8sjcTCesTScBYiNE_qhQ</td>\n",
       "      <td>Great food and good service. The bar harbor lo...</td>\n",
       "      <td>5</td>\n",
       "      <td>2016-06-13</td>\n",
       "      <td>0</td>\n",
       "      <td>1</td>\n",
       "    </tr>\n",
       "    <tr>\n",
       "      <th>16</th>\n",
       "      <td>TXiEgINSZ75d3EtvLvkc4Q</td>\n",
       "      <td>Red Lobster</td>\n",
       "      <td>0</td>\n",
       "      <td>cuocfZjsl7vzwtGfzdfBuA</td>\n",
       "      <td>DhmKZHKhZisF8GO2Cugpcw</td>\n",
       "      <td>love their special biscuit, soft and delicious...</td>\n",
       "      <td>5</td>\n",
       "      <td>2013-09-07</td>\n",
       "      <td>0</td>\n",
       "      <td>0</td>\n",
       "    </tr>\n",
       "    <tr>\n",
       "      <th>17</th>\n",
       "      <td>TXiEgINSZ75d3EtvLvkc4Q</td>\n",
       "      <td>Red Lobster</td>\n",
       "      <td>0</td>\n",
       "      <td>BXuxdO-lBL4tdg1-AthsaQ</td>\n",
       "      <td>TwypfD3u3-nyXvYFp18jqw</td>\n",
       "      <td>I'm a firm believer in second chances, and alt...</td>\n",
       "      <td>5</td>\n",
       "      <td>2014-01-22</td>\n",
       "      <td>1</td>\n",
       "      <td>1</td>\n",
       "    </tr>\n",
       "    <tr>\n",
       "      <th>18</th>\n",
       "      <td>TXiEgINSZ75d3EtvLvkc4Q</td>\n",
       "      <td>Red Lobster</td>\n",
       "      <td>1</td>\n",
       "      <td>IWINVHeH5MhTuYxAf3Gh9w</td>\n",
       "      <td>bMzpn6L1sB2siOErlolXTw</td>\n",
       "      <td>Red Lobster is  consistently excellent. The Bi...</td>\n",
       "      <td>5</td>\n",
       "      <td>2011-03-17</td>\n",
       "      <td>1</td>\n",
       "      <td>2</td>\n",
       "    </tr>\n",
       "    <tr>\n",
       "      <th>19</th>\n",
       "      <td>TXiEgINSZ75d3EtvLvkc4Q</td>\n",
       "      <td>Red Lobster</td>\n",
       "      <td>0</td>\n",
       "      <td>z4aNM6c5nWcThpnvC2y3QQ</td>\n",
       "      <td>pAoexBTQYkmtgxyrspVkxg</td>\n",
       "      <td>Very very pleasant experience! Came here for d...</td>\n",
       "      <td>5</td>\n",
       "      <td>2016-02-13</td>\n",
       "      <td>1</td>\n",
       "      <td>0</td>\n",
       "    </tr>\n",
       "  </tbody>\n",
       "</table>\n",
       "</div>"
      ],
      "text/plain": [
       "               business_id                                name  funny  \\\n",
       "0   mLwM-h2YhXl2NCgdS84_Bw  South Florida Style Chicken & Ribs      0   \n",
       "1   mLwM-h2YhXl2NCgdS84_Bw  South Florida Style Chicken & Ribs      0   \n",
       "2   duHFBe87uNSXImQmvBh87Q                             Blimpie      0   \n",
       "3   duHFBe87uNSXImQmvBh87Q                             Blimpie      0   \n",
       "4   duHFBe87uNSXImQmvBh87Q                             Blimpie      1   \n",
       "5   duHFBe87uNSXImQmvBh87Q                             Blimpie      1   \n",
       "6   duHFBe87uNSXImQmvBh87Q                             Blimpie      0   \n",
       "7   duHFBe87uNSXImQmvBh87Q                             Blimpie      0   \n",
       "8   duHFBe87uNSXImQmvBh87Q                             Blimpie      0   \n",
       "9   SDMRxmcKPNt1AHPBKqO64Q                          Applebee's      0   \n",
       "10  SDMRxmcKPNt1AHPBKqO64Q                          Applebee's      0   \n",
       "11  qnpvw-uQyRn9nlClWFK9aA                           Wild Wing      0   \n",
       "12  TXiEgINSZ75d3EtvLvkc4Q                         Red Lobster      0   \n",
       "13  TXiEgINSZ75d3EtvLvkc4Q                         Red Lobster      0   \n",
       "14  TXiEgINSZ75d3EtvLvkc4Q                         Red Lobster      0   \n",
       "15  TXiEgINSZ75d3EtvLvkc4Q                         Red Lobster      0   \n",
       "16  TXiEgINSZ75d3EtvLvkc4Q                         Red Lobster      0   \n",
       "17  TXiEgINSZ75d3EtvLvkc4Q                         Red Lobster      0   \n",
       "18  TXiEgINSZ75d3EtvLvkc4Q                         Red Lobster      1   \n",
       "19  TXiEgINSZ75d3EtvLvkc4Q                         Red Lobster      0   \n",
       "\n",
       "                   user_id               review_id  \\\n",
       "0   sV0dpo6OJJcqGqO-1aJVrQ  xrcatAnMw-li3EpnrkxOSw   \n",
       "1   Uj3eVaJZt0xcLtAg7tqYCQ  6NneO1alIF88iArTL85Ddw   \n",
       "2   Y0QwHP4oxQ4jtk8R2PFq8g  FSUVv_zALancIFlqYcMGYA   \n",
       "3   F_g_b3vOcP80Q1hMWdqbxQ  GbOPClhAFxRIS8XxySV36w   \n",
       "4   4W-ZU-E82HWWUNNk9tfN6g  jxYQ4LjL10rP2o93PWoKIg   \n",
       "5   -kBt3m5oyIppBKPn1ymLyQ  YavIrEaRUsxGHf-TRecYJw   \n",
       "6   8jN7OEC8N67IY6MgssxoMA  peY8EDUZAcNwSNLYbbgDyA   \n",
       "7   OIVny4cXC6IevrYkw5EmPw  TcFKXZNFiccajH2U0pD_lQ   \n",
       "8   mzHRaYLoV-lwX79HghP6lw  -mYaR0MkB1amF42clw9d3g   \n",
       "9   OLFS99qs5YZ7ynA9eP3PDg  tcyZU5vTceiwGPimr-2fiw   \n",
       "10  I63JVXaj_UdcyySTdqHbAA  ufMcybzsi5S2_nwDwjztfQ   \n",
       "11  nFbR_uUtu0u62G65IY_Frw  JwBf04j_TKUmLhNHqH6a_A   \n",
       "12  wvb4vwq7loygHJirHJF8TA  -Kk5F488Qyr0o7LvLaXLvA   \n",
       "13  4ZPKNYke1POscDLJ2vpAsA  6-O6_hW83wT6Pxww6YgjvQ   \n",
       "14  _yITLSz1SfCKNRqf8Spgkg  DUWRrsLqsk-gnTpDHeR0EA   \n",
       "15  8VRvXA_mQlI_GTETGN37jQ  Bd8sjcTCesTScBYiNE_qhQ   \n",
       "16  cuocfZjsl7vzwtGfzdfBuA  DhmKZHKhZisF8GO2Cugpcw   \n",
       "17  BXuxdO-lBL4tdg1-AthsaQ  TwypfD3u3-nyXvYFp18jqw   \n",
       "18  IWINVHeH5MhTuYxAf3Gh9w  bMzpn6L1sB2siOErlolXTw   \n",
       "19  z4aNM6c5nWcThpnvC2y3QQ  pAoexBTQYkmtgxyrspVkxg   \n",
       "\n",
       "                                                 text  stars        date  \\\n",
       "0   Amazing food!! I can't believe it almost taste...      5  2016-08-14   \n",
       "1   Great soul food period , it's get no better, c...      5  2016-05-13   \n",
       "2   My favorite stop. It is what you would expect ...      5  2015-07-17   \n",
       "3   This place is the best. They will make a sub t...      5  2015-07-04   \n",
       "4   I really like their bread.  Always soft inside...      5  2015-04-08   \n",
       "5   Fast, friendly service. Good value. As a NYC/N...      5  2014-12-27   \n",
       "6   This place rocks.. best customer service smile...      5  2015-07-27   \n",
       "7   I was very pleased with my meal. I had never b...      5  2015-02-19   \n",
       "8   When I want a sandwich, this is where I want i...      5  2013-11-27   \n",
       "9   Applebee's has really stepped it up!  Lately w...      5  2014-11-20   \n",
       "10  Had a gift card and honestly BROKE right now. ...      5  2016-12-10   \n",
       "11  Awesome improvement   New staff is both friend...      5  2017-07-21   \n",
       "12  The food was great. A little bit salty, but on...      5  2017-02-05   \n",
       "13  Food was great and in large amount! The bread ...      5  2015-08-12   \n",
       "14  Great food.  Always consistent.  Very tasty.  ...      5  2015-12-12   \n",
       "15  Great food and good service. The bar harbor lo...      5  2016-06-13   \n",
       "16  love their special biscuit, soft and delicious...      5  2013-09-07   \n",
       "17  I'm a firm believer in second chances, and alt...      5  2014-01-22   \n",
       "18  Red Lobster is  consistently excellent. The Bi...      5  2011-03-17   \n",
       "19  Very very pleasant experience! Came here for d...      5  2016-02-13   \n",
       "\n",
       "    useful  cool  \n",
       "0        0     0  \n",
       "1        0     1  \n",
       "2        0     0  \n",
       "3        0     1  \n",
       "4        3     2  \n",
       "5        0     0  \n",
       "6        0     0  \n",
       "7        0     1  \n",
       "8        1     1  \n",
       "9        0     0  \n",
       "10       0     0  \n",
       "11       0     0  \n",
       "12       0     1  \n",
       "13       1     2  \n",
       "14       0     0  \n",
       "15       0     1  \n",
       "16       0     0  \n",
       "17       1     1  \n",
       "18       1     2  \n",
       "19       1     0  "
      ]
     },
     "execution_count": 12,
     "metadata": {},
     "output_type": "execute_result"
    }
   ],
   "source": [
    "combo.head(20)"
   ]
  },
  {
   "cell_type": "code",
   "execution_count": 25,
   "metadata": {},
   "outputs": [],
   "source": [
    "red_lobster=combo.loc[15]['text']"
   ]
  },
  {
   "cell_type": "code",
   "execution_count": 26,
   "metadata": {},
   "outputs": [
    {
     "data": {
      "text/plain": [
       "'Great food and good service. The bar harbor lobster bake is definitely a winner! The cheddar biscuits are awesome as always. Bring your appetite because there portions are very filling.'"
      ]
     },
     "execution_count": 26,
     "metadata": {},
     "output_type": "execute_result"
    }
   ],
   "source": [
    "red_lobster"
   ]
  },
  {
   "cell_type": "code",
   "execution_count": 155,
   "metadata": {
    "collapsed": true
   },
   "outputs": [],
   "source": [
    "rnn_fivestar_reviews_only=combo[['text']]"
   ]
  },
  {
   "cell_type": "code",
   "execution_count": 156,
   "metadata": {},
   "outputs": [
    {
     "data": {
      "text/html": [
       "<div>\n",
       "<style>\n",
       "    .dataframe thead tr:only-child th {\n",
       "        text-align: right;\n",
       "    }\n",
       "\n",
       "    .dataframe thead th {\n",
       "        text-align: left;\n",
       "    }\n",
       "\n",
       "    .dataframe tbody tr th {\n",
       "        vertical-align: top;\n",
       "    }\n",
       "</style>\n",
       "<table border=\"1\" class=\"dataframe\">\n",
       "  <thead>\n",
       "    <tr style=\"text-align: right;\">\n",
       "      <th></th>\n",
       "      <th>text</th>\n",
       "    </tr>\n",
       "  </thead>\n",
       "  <tbody>\n",
       "    <tr>\n",
       "      <th>0</th>\n",
       "      <td>Amazing food!! I can't believe it almost taste...</td>\n",
       "    </tr>\n",
       "    <tr>\n",
       "      <th>1</th>\n",
       "      <td>Great soul food period , it's get no better, c...</td>\n",
       "    </tr>\n",
       "    <tr>\n",
       "      <th>2</th>\n",
       "      <td>My favorite stop. It is what you would expect ...</td>\n",
       "    </tr>\n",
       "    <tr>\n",
       "      <th>3</th>\n",
       "      <td>This place is the best. They will make a sub t...</td>\n",
       "    </tr>\n",
       "    <tr>\n",
       "      <th>4</th>\n",
       "      <td>I really like their bread.  Always soft inside...</td>\n",
       "    </tr>\n",
       "  </tbody>\n",
       "</table>\n",
       "</div>"
      ],
      "text/plain": [
       "                                                text\n",
       "0  Amazing food!! I can't believe it almost taste...\n",
       "1  Great soul food period , it's get no better, c...\n",
       "2  My favorite stop. It is what you would expect ...\n",
       "3  This place is the best. They will make a sub t...\n",
       "4  I really like their bread.  Always soft inside..."
      ]
     },
     "execution_count": 156,
     "metadata": {},
     "output_type": "execute_result"
    }
   ],
   "source": [
    "rnn_fivestar_reviews_only.head()"
   ]
  },
  {
   "cell_type": "code",
   "execution_count": 158,
   "metadata": {},
   "outputs": [
    {
     "data": {
      "text/plain": [
       "text    Awesome improvement   New staff is both friend...\n",
       "Name: 11, dtype: object"
      ]
     },
     "execution_count": 158,
     "metadata": {},
     "output_type": "execute_result"
    }
   ],
   "source": [
    "rnn_fivestar_reviews_only.iloc[11]"
   ]
  },
  {
   "cell_type": "code",
   "execution_count": 180,
   "metadata": {
    "collapsed": true
   },
   "outputs": [],
   "source": [
    "pd.set_option('display.max_colwidth', 800)"
   ]
  },
  {
   "cell_type": "code",
   "execution_count": 186,
   "metadata": {},
   "outputs": [
    {
     "data": {
      "text/plain": [
       "text    Came here on a Friday after work and it was a really good time. A very nice spot for after work drinks with your coworkers.\\n\\nThe service was fantastic. The server we had, Christina, was very attentive and very pleasant - she had a perfect balance of letting us converse and do our thing and knowing when to come by and get us drinks.\\n\\nThe environment and ambiance were very nice. It is more on the classy side, so make sure you keep that in mind. I didn't feel like it was pretentious though. \\n\\nThe food was absolutely phenomenal. It seems they have a happy hour between 4 and 8 where their starters are cheaper. You need to try the Wellington beef sliders. Absolutely delicious. Food came out pretty quickly too, all very tasty.\\n\\nIt's a bit pricey, but I do recommend it.\n",
       "Name: 1825, dtype: object"
      ]
     },
     "execution_count": 186,
     "metadata": {},
     "output_type": "execute_result"
    }
   ],
   "source": [
    "rnn_fivestar_reviews_only.iloc[1825]"
   ]
  },
  {
   "cell_type": "code",
   "execution_count": 187,
   "metadata": {
    "collapsed": true
   },
   "outputs": [],
   "source": [
    "temporary=rnn_fivestar_reviews_only"
   ]
  },
  {
   "cell_type": "code",
   "execution_count": 189,
   "metadata": {
    "collapsed": true
   },
   "outputs": [],
   "source": [
    "def strip_non_ascii(string):\n",
    "    ''' Returns the string without non ASCII characters'''\n",
    "    stripped = (c for c in string if 0 < ord(c) < 127)\n",
    "    return ''.join(stripped)"
   ]
  },
  {
   "cell_type": "code",
   "execution_count": 207,
   "metadata": {},
   "outputs": [
    {
     "data": {
      "text/plain": [
       "\"Came here on a Friday after work and it was a really good time. A very nice spot for after work drinks with your coworkers.\\n\\nThe service was fantastic. The server we had, Christina, was very attentive and very pleasant - she had a perfect balance of letting us converse and do our thing and knowing when to come by and get us drinks.\\n\\nThe environment and ambiance were very nice. It is more on the classy side, so make sure you keep that in mind. I didn't feel like it was pretentious though. \\n\\nThe food was absolutely phenomenal. It seems they have a happy hour between 4 and 8 where their starters are cheaper. You need to try the Wellington beef sliders. Absolutely delicious. Food came out pretty quickly too, all very tasty.\\n\\nIt's a bit pricey, but I do recommend it.\""
      ]
     },
     "execution_count": 207,
     "metadata": {},
     "output_type": "execute_result"
    }
   ],
   "source": [
    "temporary.iloc[1825][0]"
   ]
  },
  {
   "cell_type": "code",
   "execution_count": 212,
   "metadata": {},
   "outputs": [
    {
     "data": {
      "text/plain": [
       "\"Great soul food period , it's get no better, come and get it. They have lamb too !! Chicken, ribs, bbq chicken and sides to boot !! Pure awesomeness !!\""
      ]
     },
     "execution_count": 212,
     "metadata": {},
     "output_type": "execute_result"
    }
   ],
   "source": [
    "temporary.iloc[1][0]"
   ]
  },
  {
   "cell_type": "code",
   "execution_count": 215,
   "metadata": {},
   "outputs": [
    {
     "data": {
      "text/plain": [
       "text    Great soul food period , it's get no better, come and get it. They have lamb too !! Chicken, ribs, bbq chicken and sides to boot !! Pure awesomeness !!\n",
       "Name: 1, dtype: object"
      ]
     },
     "execution_count": 215,
     "metadata": {},
     "output_type": "execute_result"
    }
   ],
   "source": [
    "temporary.iloc[1]"
   ]
  },
  {
   "cell_type": "code",
   "execution_count": 229,
   "metadata": {},
   "outputs": [
    {
     "data": {
      "text/plain": [
       "\"My favorite stop. It is what you would expect all blimpie to be but unfortunately you can't expect this service or sandwich art at any other blimpie location. They are always generous with the condiments and veggies so much so I CRAVE these sandwiches. Always recommend to a friend.\""
      ]
     },
     "execution_count": 229,
     "metadata": {},
     "output_type": "execute_result"
    }
   ],
   "source": [
    "temporary.iloc[2][0]"
   ]
  },
  {
   "cell_type": "code",
   "execution_count": 231,
   "metadata": {},
   "outputs": [
    {
     "name": "stdout",
     "output_type": "stream",
     "text": [
      "[ \"Amazing food!! I can't believe it almost taste like my 100 year old grandfathers food, God rest his soul. Even though these guys are displaced and have opened up shop in Nubian Queens Restaurant, they did not let that come across in the food  they prepared! I'm a patron from here on out!\"\n",
      " \"Great soul food period , it's get no better, come and get it. They have lamb too !! Chicken, ribs, bbq chicken and sides to boot !! Pure awesomeness !!\"\n",
      " \"My favorite stop. It is what you would expect all blimpie to be but unfortunately you can't expect this service or sandwich art at any other blimpie location. They are always generous with the condiments and veggies so much so I CRAVE these sandwiches. Always recommend to a friend.\"\n",
      " ...,\n",
      " 'This was the best thing in Las Vegas.  I did not know it just closed, that seems like really poor timing with the new movie coming out this summer.   \\n\\nThe Star Trek Experience itself was awesome.  Nothing like standing on the bridge of Enterprise NCC-1701D itself.  Our favorite part was the shuttle craft ride, and I don\\'t ever remember anything that realistic.   It was so scary to get sucked out of the shuttle craft bay door that it was hard not to yell.  We rode that three times in a row.  \\n\\nWhen eating in Quark\\'s Bar a Klingon woman came up to me and got all in my face saying \"You look like you\\'ve never seen a Klingon woman before!\"   My brother started busting up laughing and I was quite intimidated as she would not break her gaze and just kept staring at me.  I\\'ve never thought of Klingons again in the same way.   Our Dad asked her if she looks like that when she goes by the gas station on the way home.   Hehe.   Without missing a beat she yelled \"Klingons have no use for fossil fuels!\"  And at that point none of us knew what to say..   Haha.  \\n\\nWhen walking to the bar a Ferengi looked up at us and said \"Some humans are very tall\".   (Our whole family is over 6 feet tall).      Totally excellent place with creative food and it really feels like (felt like) you were in Star Trek itself.   One of the most amazing things I have ever seen.'\n",
      " \"Quark's Bar is geek haven!  It's fun and cheezy, so make sure you bring a sense of humor.\\n\\nDuring our short vacation we went to Quark's twice!  Both times we sat at the bar, enjoying the company of the other patrons (fellow geeks), the continual feed of Next Generation episodes on the flat-screen and the delicious, potent drinks.  \\n\\nI dare you to be berated by a tall, menacing Klingon and not leave with a smile on your face!\"\n",
      " 'Great drinks, amazing food and good prices with a star trek theme. Loved this place. Visited every time I was in Vegas.. ast least a dozen times. Bring it back!']\n"
     ]
    }
   ],
   "source": [
    "import numpy as np\n",
    "na = np.array(temporary)\n",
    "print(na[:,0])\n",
    "# array([1, 2, 3])"
   ]
  },
  {
   "cell_type": "code",
   "execution_count": 286,
   "metadata": {},
   "outputs": [
    {
     "data": {
      "text/plain": [
       "\"I really like their bread.  Always soft inside and not too thick or hard on the outside.I like their fresh cut deli meats, but my favorite is always the TUNA, which is never soggy with mayo.  They do limit their toppings, but with great meat and bread all those toppings the competitors offer are not required.  They're always friendly and quick and the owner/manager is always there making sandwiches too.Why buy a $10 sandwich at WholeFoods when you can get a better one at Blimpie's?\""
      ]
     },
     "execution_count": 286,
     "metadata": {},
     "output_type": "execute_result"
    }
   ],
   "source": [
    "double_temp.iloc[4][0]"
   ]
  },
  {
   "cell_type": "code",
   "execution_count": 285,
   "metadata": {
    "collapsed": true
   },
   "outputs": [],
   "source": [
    "double_temp=double_temp.replace({r'\\n+': ''}, regex=True)"
   ]
  },
  {
   "cell_type": "code",
   "execution_count": 267,
   "metadata": {},
   "outputs": [
    {
     "data": {
      "text/plain": [
       "'I was very pleased with my meal. I had never been to a Blimpie before and i can say i have been converted! Subway in the past and Blimpie in the future!'"
      ]
     },
     "execution_count": 267,
     "metadata": {},
     "output_type": "execute_result"
    }
   ],
   "source": [
    "double_temp.iloc[7][0]"
   ]
  },
  {
   "cell_type": "code",
   "execution_count": 287,
   "metadata": {
    "collapsed": true
   },
   "outputs": [],
   "source": [
    "cleaned_reviews=double_temp"
   ]
  },
  {
   "cell_type": "code",
   "execution_count": 301,
   "metadata": {},
   "outputs": [
    {
     "data": {
      "text/plain": [
       "\"We have had pies of all sorts from the pie commission since it opened. We often take frozen ones home or to friends and family. They are very good when cooked at home as the cooking instructions allow for an excellent crust. The butter crust is the selling point. It's fun to try all the seasonal pies. The pulled pork is excellent, love the smoky sauce!\""
      ]
     },
     "execution_count": 301,
     "metadata": {},
     "output_type": "execute_result"
    }
   ],
   "source": [
    "double_temp['text'][7996]"
   ]
  },
  {
   "cell_type": "code",
   "execution_count": 311,
   "metadata": {
    "collapsed": true
   },
   "outputs": [],
   "source": [
    "testing=double_temp['text'].map(str.strip)\n",
    "#df[\"Make\"] = df[\"Make\"].map(str.strip)"
   ]
  },
  {
   "cell_type": "code",
   "execution_count": 315,
   "metadata": {},
   "outputs": [
    {
     "data": {
      "text/html": [
       "<div>\n",
       "<style>\n",
       "    .dataframe thead tr:only-child th {\n",
       "        text-align: right;\n",
       "    }\n",
       "\n",
       "    .dataframe thead th {\n",
       "        text-align: left;\n",
       "    }\n",
       "\n",
       "    .dataframe tbody tr th {\n",
       "        vertical-align: top;\n",
       "    }\n",
       "</style>\n",
       "<table border=\"1\" class=\"dataframe\">\n",
       "  <thead>\n",
       "    <tr style=\"text-align: right;\">\n",
       "      <th></th>\n",
       "      <th>text</th>\n",
       "    </tr>\n",
       "  </thead>\n",
       "  <tbody>\n",
       "    <tr>\n",
       "      <th>count</th>\n",
       "      <td>1083567</td>\n",
       "    </tr>\n",
       "    <tr>\n",
       "      <th>unique</th>\n",
       "      <td>1083075</td>\n",
       "    </tr>\n",
       "    <tr>\n",
       "      <th>top</th>\n",
       "      <td></td>\n",
       "    </tr>\n",
       "    <tr>\n",
       "      <th>freq</th>\n",
       "      <td>69</td>\n",
       "    </tr>\n",
       "  </tbody>\n",
       "</table>\n",
       "</div>"
      ],
      "text/plain": [
       "           text\n",
       "count   1083567\n",
       "unique  1083075\n",
       "top            \n",
       "freq         69"
      ]
     },
     "execution_count": 315,
     "metadata": {},
     "output_type": "execute_result"
    }
   ],
   "source": [
    "double_temp.describe()"
   ]
  },
  {
   "cell_type": "code",
   "execution_count": 321,
   "metadata": {
    "collapsed": true
   },
   "outputs": [],
   "source": [
    "final=double_temp.drop_duplicates()"
   ]
  },
  {
   "cell_type": "code",
   "execution_count": 322,
   "metadata": {},
   "outputs": [
    {
     "data": {
      "text/html": [
       "<div>\n",
       "<style>\n",
       "    .dataframe thead tr:only-child th {\n",
       "        text-align: right;\n",
       "    }\n",
       "\n",
       "    .dataframe thead th {\n",
       "        text-align: left;\n",
       "    }\n",
       "\n",
       "    .dataframe tbody tr th {\n",
       "        vertical-align: top;\n",
       "    }\n",
       "</style>\n",
       "<table border=\"1\" class=\"dataframe\">\n",
       "  <thead>\n",
       "    <tr style=\"text-align: right;\">\n",
       "      <th></th>\n",
       "      <th>text</th>\n",
       "    </tr>\n",
       "  </thead>\n",
       "  <tbody>\n",
       "    <tr>\n",
       "      <th>count</th>\n",
       "      <td>1083075</td>\n",
       "    </tr>\n",
       "    <tr>\n",
       "      <th>unique</th>\n",
       "      <td>1083075</td>\n",
       "    </tr>\n",
       "    <tr>\n",
       "      <th>top</th>\n",
       "      <td>This is a total 5 star place!! So much food for the money. They give you a lot of side dishes right off the bat.Among the best dishes I tried were the Bulgogi Bibimbap, steamed egg, Korean Beef Kalbi and Scallops. What tops the experience is the great service here. They are very attentive and the food comes out very quickly.The Banana dessert...oh my goodness. Divine!</td>\n",
       "    </tr>\n",
       "    <tr>\n",
       "      <th>freq</th>\n",
       "      <td>1</td>\n",
       "    </tr>\n",
       "  </tbody>\n",
       "</table>\n",
       "</div>"
      ],
      "text/plain": [
       "                                                                                                                                                                                                                                                                                                                                                                                      text\n",
       "count                                                                                                                                                                                                                                                                                                                                                                              1083075\n",
       "unique                                                                                                                                                                                                                                                                                                                                                                             1083075\n",
       "top     This is a total 5 star place!! So much food for the money. They give you a lot of side dishes right off the bat.Among the best dishes I tried were the Bulgogi Bibimbap, steamed egg, Korean Beef Kalbi and Scallops. What tops the experience is the great service here. They are very attentive and the food comes out very quickly.The Banana dessert...oh my goodness. Divine!\n",
       "freq                                                                                                                                                                                                                                                                                                                                                                                     1"
      ]
     },
     "execution_count": 322,
     "metadata": {},
     "output_type": "execute_result"
    }
   ],
   "source": [
    "final.describe()"
   ]
  },
  {
   "cell_type": "code",
   "execution_count": 323,
   "metadata": {},
   "outputs": [
    {
     "data": {
      "text/html": [
       "<div>\n",
       "<style>\n",
       "    .dataframe thead tr:only-child th {\n",
       "        text-align: right;\n",
       "    }\n",
       "\n",
       "    .dataframe thead th {\n",
       "        text-align: left;\n",
       "    }\n",
       "\n",
       "    .dataframe tbody tr th {\n",
       "        vertical-align: top;\n",
       "    }\n",
       "</style>\n",
       "<table border=\"1\" class=\"dataframe\">\n",
       "  <thead>\n",
       "    <tr style=\"text-align: right;\">\n",
       "      <th></th>\n",
       "      <th>text</th>\n",
       "    </tr>\n",
       "  </thead>\n",
       "  <tbody>\n",
       "    <tr>\n",
       "      <th>0</th>\n",
       "      <td>Amazing food!! I can't believe it almost taste like my 100 year old grandfathers food, God rest his soul. Even though these guys are displaced and have opened up shop in Nubian Queens Restaurant, they did not let that come across in the food  they prepared! I'm a patron from here on out!</td>\n",
       "    </tr>\n",
       "    <tr>\n",
       "      <th>1</th>\n",
       "      <td>Great soul food period , it's get no better, come and get it. They have lamb too !! Chicken, ribs, bbq chicken and sides to boot !! Pure awesomeness !!</td>\n",
       "    </tr>\n",
       "    <tr>\n",
       "      <th>2</th>\n",
       "      <td>My favorite stop. It is what you would expect all blimpie to be but unfortunately you can't expect this service or sandwich art at any other blimpie location. They are always generous with the condiments and veggies so much so I CRAVE these sandwiches. Always recommend to a friend.</td>\n",
       "    </tr>\n",
       "    <tr>\n",
       "      <th>3</th>\n",
       "      <td>This place is the best. They will make a sub to your liking and always, always exhibit a good vibe and attitude. Yeah it's just a sandwich shop but chit like that matters if you're ever going to have repeat business.</td>\n",
       "    </tr>\n",
       "    <tr>\n",
       "      <th>4</th>\n",
       "      <td>I really like their bread.  Always soft inside and not too thick or hard on the outside.I like their fresh cut deli meats, but my favorite is always the TUNA, which is never soggy with mayo.  They do limit their toppings, but with great meat and bread all those toppings the competitors offer are not required.  They're always friendly and quick and the owner/manager is always there making sandwiches too.Why buy a $10 sandwich at WholeFoods when you can get a better one at Blimpie's?</td>\n",
       "    </tr>\n",
       "  </tbody>\n",
       "</table>\n",
       "</div>"
      ],
      "text/plain": [
       "                                                                                                                                                                                                                                                                                                                                                                                                                                                                                                     text\n",
       "0                                                                                                                                                                                                        Amazing food!! I can't believe it almost taste like my 100 year old grandfathers food, God rest his soul. Even though these guys are displaced and have opened up shop in Nubian Queens Restaurant, they did not let that come across in the food  they prepared! I'm a patron from here on out!\n",
       "1                                                                                                                                                                                                                                                                                                                                                 Great soul food period , it's get no better, come and get it. They have lamb too !! Chicken, ribs, bbq chicken and sides to boot !! Pure awesomeness !!\n",
       "2                                                                                                                                                                                                              My favorite stop. It is what you would expect all blimpie to be but unfortunately you can't expect this service or sandwich art at any other blimpie location. They are always generous with the condiments and veggies so much so I CRAVE these sandwiches. Always recommend to a friend.\n",
       "3                                                                                                                                                                                                                                                                                This place is the best. They will make a sub to your liking and always, always exhibit a good vibe and attitude. Yeah it's just a sandwich shop but chit like that matters if you're ever going to have repeat business.\n",
       "4  I really like their bread.  Always soft inside and not too thick or hard on the outside.I like their fresh cut deli meats, but my favorite is always the TUNA, which is never soggy with mayo.  They do limit their toppings, but with great meat and bread all those toppings the competitors offer are not required.  They're always friendly and quick and the owner/manager is always there making sandwiches too.Why buy a $10 sandwich at WholeFoods when you can get a better one at Blimpie's?"
      ]
     },
     "execution_count": 323,
     "metadata": {},
     "output_type": "execute_result"
    }
   ],
   "source": [
    "final.head()"
   ]
  },
  {
   "cell_type": "code",
   "execution_count": 331,
   "metadata": {},
   "outputs": [
    {
     "data": {
      "text/plain": [
       "'Such friendly staff. Clean dining area, the food is always fresh and amazing. Arthur and the manager Jim were such a pleasure to talk to while my order was being made. I was also able to purchase a \"taco life\" T-shirt! I\\'ve wanted for ever. Love this place'"
      ]
     },
     "execution_count": 331,
     "metadata": {},
     "output_type": "execute_result"
    }
   ],
   "source": [
    "final['text'][98831]"
   ]
  },
  {
   "cell_type": "code",
   "execution_count": 337,
   "metadata": {},
   "outputs": [
    {
     "data": {
      "text/plain": [
       "'I\\'m letting all of you know that Angry Crab- Peoria, is now open!They don\\'t do barbecue or pizza like some of their sister restaurants in PHX, Mesa and the Tukee- here it\\'s all about crab, shrimp, crawfish, crab legs, mussels, clams, oysters, po boys, catfish and several other things that swim. Pro tip: dress down because you will get messy. Need to take a shower soon after dining messy. Might wanna drive through a car wash with the windows down messy. But it will be worth it. The staff is very friendly and if you need help tying up your bib, they\\'ll hook you up.It\\'s across from Lee Lee, on Cactus, just west of 75th Ave and at least for now, only open for dinner from 4-10, 11pm on Fri & Sat. The atmosphere and vibe is so unlike anything else in the area, and of course, so is the menu. I\\'ve been waiting on the \"OPEN\" sign in the front window to be turned on for about 4 months. It\\'s a long overdue \"interesting\" addition to the neighborhood and I\\'m glad it\\'s finally open!'"
      ]
     },
     "execution_count": 337,
     "metadata": {},
     "output_type": "execute_result"
    }
   ],
   "source": [
    "final['text'][988399]"
   ]
  },
  {
   "cell_type": "code",
   "execution_count": 340,
   "metadata": {},
   "outputs": [
    {
     "data": {
      "text/plain": [
       "text    I'm letting all of you know that Angry Crab- Peoria, is now open!They don't do barbecue or pizza like some of their sister restaurants in PHX, Mesa and the Tukee- here it's all about crab, shrimp, crawfish, crab legs, mussels, clams, oysters, po boys, catfish and several other things that swim. Pro tip: dress down because you will get messy. Need to take a shower soon after dining messy. Might wanna drive through a car wash with the windows down messy. But it will be worth it. The staff is very friendly and if you need help tying up your bib, they'll hook you up.It's across from Lee Lee, on Cactus, just west of 75th Ave and at least for now, only open for dinner from 4-10, 11pm on Fri & Sat. The atmosphere and vibe is so unlike anything else in the area, and of course, so is the menu. ...\n",
       "Name: 988399, dtype: object"
      ]
     },
     "execution_count": 340,
     "metadata": {},
     "output_type": "execute_result"
    }
   ],
   "source": [
    "final.loc[988399]"
   ]
  },
  {
   "cell_type": "code",
   "execution_count": 341,
   "metadata": {
    "collapsed": true
   },
   "outputs": [],
   "source": [
    "#df['col'] = 'str' + df['col'].astype(str)\n",
    "final['text']='<SOR>' + final['text'].astype(str)+'<EOR>'"
   ]
  },
  {
   "cell_type": "code",
   "execution_count": 342,
   "metadata": {},
   "outputs": [
    {
     "data": {
      "text/html": [
       "<div>\n",
       "<style>\n",
       "    .dataframe thead tr:only-child th {\n",
       "        text-align: right;\n",
       "    }\n",
       "\n",
       "    .dataframe thead th {\n",
       "        text-align: left;\n",
       "    }\n",
       "\n",
       "    .dataframe tbody tr th {\n",
       "        vertical-align: top;\n",
       "    }\n",
       "</style>\n",
       "<table border=\"1\" class=\"dataframe\">\n",
       "  <thead>\n",
       "    <tr style=\"text-align: right;\">\n",
       "      <th></th>\n",
       "      <th>text</th>\n",
       "    </tr>\n",
       "  </thead>\n",
       "  <tbody>\n",
       "    <tr>\n",
       "      <th>0</th>\n",
       "      <td>&lt;SOR&gt;Amazing food!! I can't believe it almost taste like my 100 year old grandfathers food, God rest his soul. Even though these guys are displaced and have opened up shop in Nubian Queens Restaurant, they did not let that come across in the food  they prepared! I'm a patron from here on out!&lt;EOR&gt;</td>\n",
       "    </tr>\n",
       "    <tr>\n",
       "      <th>1</th>\n",
       "      <td>&lt;SOR&gt;Great soul food period , it's get no better, come and get it. They have lamb too !! Chicken, ribs, bbq chicken and sides to boot !! Pure awesomeness !!&lt;EOR&gt;</td>\n",
       "    </tr>\n",
       "    <tr>\n",
       "      <th>2</th>\n",
       "      <td>&lt;SOR&gt;My favorite stop. It is what you would expect all blimpie to be but unfortunately you can't expect this service or sandwich art at any other blimpie location. They are always generous with the condiments and veggies so much so I CRAVE these sandwiches. Always recommend to a friend.&lt;EOR&gt;</td>\n",
       "    </tr>\n",
       "    <tr>\n",
       "      <th>3</th>\n",
       "      <td>&lt;SOR&gt;This place is the best. They will make a sub to your liking and always, always exhibit a good vibe and attitude. Yeah it's just a sandwich shop but chit like that matters if you're ever going to have repeat business.&lt;EOR&gt;</td>\n",
       "    </tr>\n",
       "    <tr>\n",
       "      <th>4</th>\n",
       "      <td>&lt;SOR&gt;I really like their bread.  Always soft inside and not too thick or hard on the outside.I like their fresh cut deli meats, but my favorite is always the TUNA, which is never soggy with mayo.  They do limit their toppings, but with great meat and bread all those toppings the competitors offer are not required.  They're always friendly and quick and the owner/manager is always there making sandwiches too.Why buy a $10 sandwich at WholeFoods when you can get a better one at Blimpie's?&lt;EOR&gt;</td>\n",
       "    </tr>\n",
       "  </tbody>\n",
       "</table>\n",
       "</div>"
      ],
      "text/plain": [
       "                                                                                                                                                                                                                                                                                                                                                                                                                                                                                                               text\n",
       "0                                                                                                                                                                                                        <SOR>Amazing food!! I can't believe it almost taste like my 100 year old grandfathers food, God rest his soul. Even though these guys are displaced and have opened up shop in Nubian Queens Restaurant, they did not let that come across in the food  they prepared! I'm a patron from here on out!<EOR>\n",
       "1                                                                                                                                                                                                                                                                                                                                                 <SOR>Great soul food period , it's get no better, come and get it. They have lamb too !! Chicken, ribs, bbq chicken and sides to boot !! Pure awesomeness !!<EOR>\n",
       "2                                                                                                                                                                                                              <SOR>My favorite stop. It is what you would expect all blimpie to be but unfortunately you can't expect this service or sandwich art at any other blimpie location. They are always generous with the condiments and veggies so much so I CRAVE these sandwiches. Always recommend to a friend.<EOR>\n",
       "3                                                                                                                                                                                                                                                                                <SOR>This place is the best. They will make a sub to your liking and always, always exhibit a good vibe and attitude. Yeah it's just a sandwich shop but chit like that matters if you're ever going to have repeat business.<EOR>\n",
       "4  <SOR>I really like their bread.  Always soft inside and not too thick or hard on the outside.I like their fresh cut deli meats, but my favorite is always the TUNA, which is never soggy with mayo.  They do limit their toppings, but with great meat and bread all those toppings the competitors offer are not required.  They're always friendly and quick and the owner/manager is always there making sandwiches too.Why buy a $10 sandwich at WholeFoods when you can get a better one at Blimpie's?<EOR>"
      ]
     },
     "execution_count": 342,
     "metadata": {},
     "output_type": "execute_result"
    }
   ],
   "source": [
    "final.head()"
   ]
  },
  {
   "cell_type": "code",
   "execution_count": 345,
   "metadata": {},
   "outputs": [
    {
     "data": {
      "text/plain": [
       "\"<SOR>This place is the best. They will make a sub to your liking and always, always exhibit a good vibe and attitude. Yeah it's just a sandwich shop but chit like that matters if you're ever going to have repeat business.<EOR>\""
      ]
     },
     "execution_count": 345,
     "metadata": {},
     "output_type": "execute_result"
    }
   ],
   "source": [
    "final.loc[3][0]"
   ]
  },
  {
   "cell_type": "code",
   "execution_count": 346,
   "metadata": {
    "collapsed": true
   },
   "outputs": [],
   "source": [
    "filename='five_star_restaurants_reviews_only.csv'\n",
    "final.to_csv(filename, index=False, encoding='utf-8')\n"
   ]
  },
  {
   "cell_type": "code",
   "execution_count": 370,
   "metadata": {
    "collapsed": true
   },
   "outputs": [],
   "source": [
    "small_sample_reviews=final[0:10000]"
   ]
  },
  {
   "cell_type": "code",
   "execution_count": 367,
   "metadata": {
    "collapsed": true
   },
   "outputs": [],
   "source": [
    "filename='five_star_text.txt'\n",
    "final.to_csv(filename, header=None, index=None, sep=' ')"
   ]
  },
  {
   "cell_type": "code",
   "execution_count": 369,
   "metadata": {},
   "outputs": [
    {
     "data": {
      "text/plain": [
       "1083075"
      ]
     },
     "execution_count": 369,
     "metadata": {},
     "output_type": "execute_result"
    }
   ],
   "source": [
    "len(final)"
   ]
  },
  {
   "cell_type": "code",
   "execution_count": 371,
   "metadata": {},
   "outputs": [
    {
     "data": {
      "text/plain": [
       "10000"
      ]
     },
     "execution_count": 371,
     "metadata": {},
     "output_type": "execute_result"
    }
   ],
   "source": [
    "len(small_sample_reviews)"
   ]
  },
  {
   "cell_type": "code",
   "execution_count": 373,
   "metadata": {},
   "outputs": [
    {
     "data": {
      "text/plain": [
       "\"<SOR>Amazing food!! I can't believe it almost taste like my 100 year old grandfathers food, God rest his soul. Even though these guys are displaced and have opened up shop in Nubian Queens Restaurant, they did not let that come across in the food  they prepared! I'm a patron from here on out!<EOR>\""
      ]
     },
     "execution_count": 373,
     "metadata": {},
     "output_type": "execute_result"
    }
   ],
   "source": [
    "small_sample_reviews.loc[0][0]"
   ]
  },
  {
   "cell_type": "code",
   "execution_count": 374,
   "metadata": {
    "collapsed": true
   },
   "outputs": [],
   "source": [
    "filename='small_sample_text.txt'\n",
    "small_sample_reviews.to_csv(filename, header=None, index=None, sep=' ')"
   ]
  }
 ],
 "metadata": {
  "kernelspec": {
   "display_name": "Python [default]",
   "language": "python",
   "name": "python3"
  },
  "language_info": {
   "codemirror_mode": {
    "name": "ipython",
    "version": 3
   },
   "file_extension": ".py",
   "mimetype": "text/x-python",
   "name": "python",
   "nbconvert_exporter": "python",
   "pygments_lexer": "ipython3",
   "version": "3.5.3"
  },
  "toc": {
   "colors": {
    "hover_highlight": "#DAA520",
    "navigate_num": "#000000",
    "navigate_text": "#333333",
    "running_highlight": "#FF0000",
    "selected_highlight": "#FFD700",
    "sidebar_border": "#EEEEEE",
    "wrapper_background": "#FFFFFF"
   },
   "moveMenuLeft": true,
   "nav_menu": {
    "height": "12px",
    "width": "252px"
   },
   "navigate_menu": true,
   "number_sections": true,
   "sideBar": true,
   "threshold": 4,
   "toc_cell": false,
   "toc_section_display": "block",
   "toc_window_display": false,
   "widenNotebook": false
  }
 },
 "nbformat": 4,
 "nbformat_minor": 2
}
