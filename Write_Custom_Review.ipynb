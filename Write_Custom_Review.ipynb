{
 "cells": [
  {
   "cell_type": "code",
   "execution_count": 122,
   "metadata": {},
   "outputs": [],
   "source": [
    "from customizer import *\n",
    "import keras\n",
    "from keras import layers\n",
    "import numpy as np\n",
    "import random\n",
    "import sys\n",
    "import pandas as pd"
   ]
  },
  {
   "cell_type": "code",
   "execution_count": 132,
   "metadata": {},
   "outputs": [],
   "source": [
    "#df=pd.read_csv('all_five_star_restaurants.csv')"
   ]
  },
  {
   "cell_type": "code",
   "execution_count": 133,
   "metadata": {},
   "outputs": [
    {
     "data": {
      "text/html": [
       "<div>\n",
       "<style>\n",
       "    .dataframe thead tr:only-child th {\n",
       "        text-align: right;\n",
       "    }\n",
       "\n",
       "    .dataframe thead th {\n",
       "        text-align: left;\n",
       "    }\n",
       "\n",
       "    .dataframe tbody tr th {\n",
       "        vertical-align: top;\n",
       "    }\n",
       "</style>\n",
       "<table border=\"1\" class=\"dataframe\">\n",
       "  <thead>\n",
       "    <tr style=\"text-align: right;\">\n",
       "      <th></th>\n",
       "      <th>text</th>\n",
       "      <th>name</th>\n",
       "    </tr>\n",
       "  </thead>\n",
       "  <tbody>\n",
       "    <tr>\n",
       "      <th>0</th>\n",
       "      <td>Amazing food!! I can't believe it almost taste...</td>\n",
       "      <td>South Florida Style Chicken &amp; Ribs</td>\n",
       "    </tr>\n",
       "    <tr>\n",
       "      <th>1</th>\n",
       "      <td>Great soul food period , it's get no better, c...</td>\n",
       "      <td>South Florida Style Chicken &amp; Ribs</td>\n",
       "    </tr>\n",
       "    <tr>\n",
       "      <th>2</th>\n",
       "      <td>My favorite stop. It is what you would expect ...</td>\n",
       "      <td>Blimpie</td>\n",
       "    </tr>\n",
       "    <tr>\n",
       "      <th>3</th>\n",
       "      <td>This place is the best. They will make a sub t...</td>\n",
       "      <td>Blimpie</td>\n",
       "    </tr>\n",
       "    <tr>\n",
       "      <th>4</th>\n",
       "      <td>I really like their bread.  Always soft inside...</td>\n",
       "      <td>Blimpie</td>\n",
       "    </tr>\n",
       "  </tbody>\n",
       "</table>\n",
       "</div>"
      ],
      "text/plain": [
       "                                                text  \\\n",
       "0  Amazing food!! I can't believe it almost taste...   \n",
       "1  Great soul food period , it's get no better, c...   \n",
       "2  My favorite stop. It is what you would expect ...   \n",
       "3  This place is the best. They will make a sub t...   \n",
       "4  I really like their bread.  Always soft inside...   \n",
       "\n",
       "                                 name  \n",
       "0  South Florida Style Chicken & Ribs  \n",
       "1  South Florida Style Chicken & Ribs  \n",
       "2                             Blimpie  \n",
       "3                             Blimpie  \n",
       "4                             Blimpie  "
      ]
     },
     "execution_count": 133,
     "metadata": {},
     "output_type": "execute_result"
    }
   ],
   "source": [
    "#df.head()"
   ]
  },
  {
   "cell_type": "code",
   "execution_count": 125,
   "metadata": {
    "collapsed": true
   },
   "outputs": [],
   "source": [
    "#df=pd.read_csv('business.csv')\n",
    "#df2=pd.read_csv('review.csv')\n",
    "#five_star=df2[df2['stars']==5]\n",
    "#restaurants = df[df['categories'].str.contains('Restaurants')]\n",
    "#restaurants_clean=restaurants[['business_id','name']]\n",
    "#all_five_star_restaurants=pd.merge(restaurants_clean, five_star, on='business_id')\n",
    "#all_five_star_restaurants=all_five_star_restaurants[['text', 'name']]"
   ]
  },
  {
   "cell_type": "code",
   "execution_count": 131,
   "metadata": {
    "collapsed": true
   },
   "outputs": [],
   "source": [
    "#all_five_star_restaurants.to_csv('all_five_star_restaurants.csv', index=False)"
   ]
  },
  {
   "cell_type": "code",
   "execution_count": 2,
   "metadata": {
    "collapsed": true
   },
   "outputs": [],
   "source": [
    "text = open('short_reviews_shuffle.txt').read()"
   ]
  },
  {
   "cell_type": "code",
   "execution_count": 8,
   "metadata": {
    "collapsed": true
   },
   "outputs": [],
   "source": [
    "def sample(preds, temperature=1.0):\n",
    "    preds = np.asarray(preds).astype('float64')\n",
    "    preds = np.log(preds) / temperature\n",
    "    exp_preds = np.exp(preds)\n",
    "    preds = exp_preds / np.sum(exp_preds)\n",
    "    probas = np.random.multinomial(1, preds, 1)\n",
    "    return np.argmax(probas)"
   ]
  },
  {
   "cell_type": "code",
   "execution_count": null,
   "metadata": {
    "collapsed": true
   },
   "outputs": [],
   "source": [
    "def findStrAfterStr(myString, searchText, afterText):\n",
    "    after_index = myString.index(afterText)\n",
    "    return myString.find(searchText, after_index)"
   ]
  },
  {
   "cell_type": "code",
   "execution_count": null,
   "metadata": {
    "collapsed": true
   },
   "outputs": [],
   "source": [
    "def get_second_index(input_string, sub_string):\n",
    "    return input_string.index(sub_string, input_string.index(sub_string) + 1)"
   ]
  },
  {
   "cell_type": "code",
   "execution_count": 4,
   "metadata": {},
   "outputs": [],
   "source": [
    "#chars = sorted(list(set(text)))\n",
    "# Dictionary mapping unique characters to their index in `chars`\n",
    "chars=['\\n', ' ', '!', '\"', '#', '$', '%', '&', \"'\", '(', ')', '*', ',', '-', '.', '/', '0', '1', '2', '3', '4', '5', '6', '7', '8', '9', ':', ';', '<', '=', '>', '?', '@', 'A', 'B', 'C', 'D', 'E', 'F', 'G', 'H', 'I', 'J', 'K', 'L', 'M', 'N', 'O', 'P', 'Q', 'R', 'S', 'T', 'U', 'V', 'W', 'X', 'Y', 'Z', '[', '\\\\', ']', '^', '_', '`', 'a', 'b', 'c', 'd', 'e', 'f', 'g', 'h', 'i', 'j', 'k', 'l', 'm', 'n', 'o', 'p', 'q', 'r', 's', 't', 'u', 'v', 'w', 'x', 'y', 'z', '{', '|', '}', '~']"
   ]
  },
  {
   "cell_type": "code",
   "execution_count": 5,
   "metadata": {
    "collapsed": true
   },
   "outputs": [],
   "source": [
    "char_indices = dict((char, chars.index(char)) for char in chars)\n",
    "maxlen=60\n",
    "step=1"
   ]
  },
  {
   "cell_type": "code",
   "execution_count": 6,
   "metadata": {
    "collapsed": true
   },
   "outputs": [],
   "source": [
    "model = keras.models.Sequential()\n",
    "model.add(layers.LSTM(1024, input_shape=(maxlen, len(chars)),return_sequences=True))\n",
    "model.add(layers.LSTM(1024, input_shape=(maxlen, len(chars))))\n",
    "model.add(layers.Dense(len(chars), activation='softmax'))\n",
    "model.load_weights(\"Sep-26-all-00-0.7359.hdf5\")\n",
    "\n",
    "optimizer = keras.optimizers.Adam(lr=0.0002)\n",
    "model.compile(loss='categorical_crossentropy', optimizer=optimizer)"
   ]
  },
  {
   "cell_type": "code",
   "execution_count": 113,
   "metadata": {},
   "outputs": [
    {
     "name": "stdout",
     "output_type": "stream",
     "text": [
      "Coming up with two ideas for you...\n"
     ]
    },
    {
     "name": "stderr",
     "output_type": "stream",
     "text": [
      "/Users/andrewmanser/anaconda3/lib/python3.5/site-packages/ipykernel/__main__.py:3: RuntimeWarning: divide by zero encountered in log\n",
      "  app.launch_new_instance()\n"
     ]
    },
    {
     "name": "stdout",
     "output_type": "stream",
     "text": [
      "It's my favourite coffee, I always get the greek coffee. It is a sweeter than coffee and it stays 400 minutes of ordering. I also had the Tangerine Rolled Spicy Lean Roll and it was amazing. espresso service... Will definitely be back... \n",
      "\n",
      "coffee food, ambiance, and service! We had a coupon from Viagias, great food and service great atmosphere and the service is very good for the price. I was wrong. It was perfect. \n"
     ]
    }
   ],
   "source": [
    "print('Coming up with two ideas for you...')\n",
    "start_index = random.randint(0, len(text) - maxlen - 1)\n",
    "generated_text = text[start_index: start_index + maxlen]\n",
    "\n",
    "final=generated_text+''\n",
    "\n",
    "#for temperature in [0.5, 0.8, 1.0]:\n",
    "for temperature in [0.8]:\n",
    "    #print('------ temperature:', temperature)\n",
    "    #sys.stdout.write(generated_text)\n",
    "\n",
    "        # We generate 600 characters\n",
    "    for i in range(600):\n",
    "        sampled = np.zeros((1, maxlen, len(chars)))\n",
    "        for t, char in enumerate(generated_text):\n",
    "            sampled[0, t, char_indices[char]] = 1.\n",
    "\n",
    "        preds = model.predict(sampled, verbose=0)[0]\n",
    "        next_index = sample(preds, temperature)\n",
    "        next_char = chars[next_index]\n",
    "        final+=next_char\n",
    "        \n",
    "        \n",
    "        generated_text += next_char\n",
    "        generated_text = generated_text[1:]\n",
    "\n",
    "        #sys.stdout.write(next_char)\n",
    "        #sys.stdout.flush()\n",
    "temp=personalized_clean_up(final, 'cold-brew,espresso,coffee')\n",
    "start=temp.find('SOR')\n",
    "stop=findStrAfterStr(temp, 'EOR', 'SOR')\n",
    "end_first=temp[start+4:stop]\n",
    "\n",
    "new=temp[get_second_index(temp, 'SOR')+4:]\n",
    "ending=new.find('EOR')\n",
    "print(temp[start+4:stop])\n",
    "print(\"\")\n",
    "print(new[:ending])"
   ]
  },
  {
   "cell_type": "code",
   "execution_count": 114,
   "metadata": {},
   "outputs": [
    {
     "name": "stdout",
     "output_type": "stream",
     "text": [
      " wonderful.<EOR>\"\n",
      "\"<SOR>It's my favourite location, I always get the greek salad. It is a sweeter than fettuccine and it stays 400 minutes of ordering. I also had the Tangerine Rolled Spicy Lean Roll and it was amazing. Great service...  Will definitely be back...<EOR>\"\n",
      "\"<SOR>Great food, ambiance, and service! We had a coupon from Viagias, great food and service great atmosphere and the service is very good for the price.  I was wrong.  It was perfect.<EOR>\"\n",
      "\"<SOR>My wife and I come here all the time. Love the people there and the food.<EOR>\"\n",
      "\"<SOR>Love this place!!! Good for breakfast. Very clean, staff is very friendly.<EOR>\"\n",
      "\"<SOR>I'm one of the way\n"
     ]
    }
   ],
   "source": [
    "print(final)"
   ]
  },
  {
   "cell_type": "code",
   "execution_count": 115,
   "metadata": {
    "collapsed": true
   },
   "outputs": [],
   "source": [
    "#PRINT RANDOM REVIEWS\n",
    "# Select a text seed at random\n",
    "def random_reviews():\n",
    "    start_index = random.randint(0, len(text) - maxlen - 1)\n",
    "    generated_text = text[start_index: start_index + maxlen]\n",
    "    print('Coming up with several reviews for you...')\n",
    "\n",
    "    for temperature in [0.8]:\n",
    "        sys.stdout.write(generated_text)\n",
    "\n",
    "        # We generate 600 characters\n",
    "        for i in range(600):\n",
    "            sampled = np.zeros((1, maxlen, len(chars)))\n",
    "            for t, char in enumerate(generated_text):\n",
    "                sampled[0, t, char_indices[char]] = 1.\n",
    "\n",
    "            preds = model.predict(sampled, verbose=0)[0]\n",
    "            next_index = sample(preds, temperature)\n",
    "            next_char = chars[next_index]\n",
    "\n",
    "            generated_text += next_char\n",
    "            generated_text = generated_text[1:]\n",
    "\n",
    "            sys.stdout.write(next_char)\n",
    "            sys.stdout.flush()\n",
    "        print()"
   ]
  },
  {
   "cell_type": "code",
   "execution_count": 117,
   "metadata": {},
   "outputs": [
    {
     "name": "stdout",
     "output_type": "stream",
     "text": [
      "Coming up with several reviews for you...\n",
      "zona.<EOR>\"\n",
      "\"<SOR>Great food and service was awesome as well as ambian"
     ]
    },
    {
     "name": "stderr",
     "output_type": "stream",
     "text": [
      "/Users/andrewmanser/anaconda3/lib/python3.5/site-packages/ipykernel/__main__.py:3: RuntimeWarning: divide by zero encountered in log\n",
      "  app.launch_new_instance()\n"
     ]
    },
    {
     "name": "stdout",
     "output_type": "stream",
     "text": [
      "ce as well.  Loved it<EOR>\"\n",
      "\"<SOR>Great BBQ.  Great salads and fries.  Food was amazing and Spanish Buffalo mushroom Burger was absolutely delicious! Everything came out within 5 minutes, but that's our server and she was really sweet, and the food was amazing!!! The portions were big and packed during a day of when I was still thinking about it. The tali and potato wedges are also amazing. We will miss this time or hold more to this gem.<EOR>\"\n",
      "\"<SOR>Remember to get the punch of light lunch special you can not go wrong. This place is the real deal.<EOR>\"\n",
      "\"<SOR>This place is awesome. \n"
     ]
    }
   ],
   "source": [
    "random_reviews()"
   ]
  },
  {
   "cell_type": "code",
   "execution_count": 120,
   "metadata": {
    "collapsed": true
   },
   "outputs": [],
   "source": [
    "#PRINT USER CUSTOMIZED REVIEWS\n",
    "def user_custom(foods):\n",
    "    #foods is a string separated by commas\n",
    "    start_index = random.randint(0, len(text) - maxlen - 1)\n",
    "    generated_text = text[start_index: start_index + maxlen]\n",
    "    print('Coming up with two ideas for you...')\n",
    "    \n",
    "    final=generated_text+''\n",
    "    \n",
    "    for temperature in [0.8]:\n",
    "        \n",
    "\n",
    "        # We generate 600 characters\n",
    "        for i in range(600):\n",
    "            sampled = np.zeros((1, maxlen, len(chars)))\n",
    "            for t, char in enumerate(generated_text):\n",
    "                sampled[0, t, char_indices[char]] = 1.\n",
    "\n",
    "            preds = model.predict(sampled, verbose=0)[0]\n",
    "            next_index = sample(preds, temperature)\n",
    "            next_char = chars[next_index]\n",
    "            final+=next_char\n",
    "\n",
    "            generated_text += next_char\n",
    "            generated_text = generated_text[1:]\n",
    "    #print first review, then second via SOR/EOR \n",
    "    temp=personalized_clean_up(final, foods)\n",
    "    start=temp.find('SOR')\n",
    "    stop=findStrAfterStr(temp, 'EOR', 'SOR')\n",
    "    end_first=temp[start+4:stop]\n",
    "\n",
    "    new=temp[get_second_index(temp, 'SOR')+4:]\n",
    "    ending=new.find('EOR')\n",
    "    print(temp[start+4:stop])\n",
    "    print(\"\")\n",
    "    print(new[:ending])"
   ]
  },
  {
   "cell_type": "code",
   "execution_count": 121,
   "metadata": {},
   "outputs": [
    {
     "name": "stdout",
     "output_type": "stream",
     "text": [
      "Coming up with two ideas for you...\n"
     ]
    },
    {
     "name": "stderr",
     "output_type": "stream",
     "text": [
      "/Users/andrewmanser/anaconda3/lib/python3.5/site-packages/ipykernel/__main__.py:3: RuntimeWarning: divide by zero encountered in log\n",
      "  app.launch_new_instance()\n"
     ]
    },
    {
     "name": "stdout",
     "output_type": "stream",
     "text": [
      "Just stopped by for a quick sugar. The portions were great. Highly recommend!! \n",
      "\n",
      "Love the soda and sugar. The candy is very fresh and the staff is very friendly. It looks sketchy sugar as the food is amazing and the service is great as well. They also have some interesting candy specials. \n"
     ]
    }
   ],
   "source": [
    "user_custom('candy,soda,sugar,gummies')"
   ]
  },
  {
   "cell_type": "code",
   "execution_count": 135,
   "metadata": {
    "collapsed": true
   },
   "outputs": [],
   "source": [
    "#PRINT database CUSTOMIZED REVIEWS\n",
    "def df_custom(restaurant):\n",
    "    #restaurant is a string exactly the same as in the dataframe\n",
    "    df=pd.read_csv('all_five_star_restaurants.csv')\n",
    "    start_index = random.randint(0, len(text) - maxlen - 1)\n",
    "    generated_text = text[start_index: start_index + maxlen]\n",
    "    print('Coming up with two ideas for you...')\n",
    "    \n",
    "    final=generated_text+''\n",
    "    \n",
    "    for temperature in [0.8]:\n",
    "        \n",
    "\n",
    "        # We generate 600 characters\n",
    "        for i in range(600):\n",
    "            sampled = np.zeros((1, maxlen, len(chars)))\n",
    "            for t, char in enumerate(generated_text):\n",
    "                sampled[0, t, char_indices[char]] = 1.\n",
    "\n",
    "            preds = model.predict(sampled, verbose=0)[0]\n",
    "            next_index = sample(preds, temperature)\n",
    "            next_char = chars[next_index]\n",
    "            final+=next_char\n",
    "\n",
    "            generated_text += next_char\n",
    "            generated_text = generated_text[1:]\n",
    "    #print first review, then second via SOR/EOR\n",
    "    items=pull_restaurant_review(restaurant, df)  \n",
    "    \n",
    "    temp=clean_up(final, items)\n",
    "    start=temp.find('SOR')\n",
    "    stop=findStrAfterStr(temp, 'EOR', 'SOR')\n",
    "    end_first=temp[start+4:stop]\n",
    "\n",
    "    new=temp[get_second_index(temp, 'SOR')+4:]\n",
    "    ending=new.find('EOR')\n",
    "    print(temp[start+4:stop])\n",
    "    print(\"\")\n",
    "    print(new[:ending])"
   ]
  },
  {
   "cell_type": "code",
   "execution_count": 136,
   "metadata": {},
   "outputs": [
    {
     "name": "stdout",
     "output_type": "stream",
     "text": [
      "Coming up with two ideas for you...\n"
     ]
    },
    {
     "name": "stderr",
     "output_type": "stream",
     "text": [
      "/Users/andrewmanser/anaconda3/lib/python3.5/site-packages/ipykernel/__main__.py:3: RuntimeWarning: divide by zero encountered in log\n",
      "  app.launch_new_instance()\n"
     ]
    },
    {
     "name": "stdout",
     "output_type": "stream",
     "text": [
      "Ben location, and the best prepared around south!!! You won't regret the true little area that shows the dancers on the place burritos know the food come out great!! \n",
      "\n",
      "Best vegan food I've had since visiting the sub satellite. You won't be able to stop by and fall in love their menu. \n"
     ]
    }
   ],
   "source": [
    "df_custom('Subway')"
   ]
  }
 ],
 "metadata": {
  "kernelspec": {
   "display_name": "Python [default]",
   "language": "python",
   "name": "python3"
  },
  "language_info": {
   "codemirror_mode": {
    "name": "ipython",
    "version": 3
   },
   "file_extension": ".py",
   "mimetype": "text/x-python",
   "name": "python",
   "nbconvert_exporter": "python",
   "pygments_lexer": "ipython3",
   "version": "3.5.3"
  },
  "toc": {
   "colors": {
    "hover_highlight": "#DAA520",
    "navigate_num": "#000000",
    "navigate_text": "#333333",
    "running_highlight": "#FF0000",
    "selected_highlight": "#FFD700",
    "sidebar_border": "#EEEEEE",
    "wrapper_background": "#FFFFFF"
   },
   "moveMenuLeft": true,
   "nav_menu": {
    "height": "12px",
    "width": "252px"
   },
   "navigate_menu": true,
   "number_sections": true,
   "sideBar": true,
   "threshold": 4,
   "toc_cell": false,
   "toc_section_display": "block",
   "toc_window_display": false,
   "widenNotebook": false
  }
 },
 "nbformat": 4,
 "nbformat_minor": 2
}
